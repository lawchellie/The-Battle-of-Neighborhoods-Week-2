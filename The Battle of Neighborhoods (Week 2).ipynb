{
 "cells": [
  {
   "cell_type": "markdown",
   "metadata": {},
   "source": [
    "# Capstone Project - The Battle of the Neighborhoods (Week 2)\n",
    "   ### Applied Data Science Capstone by IBM/Coursera"
   ]
  },
  {
   "cell_type": "markdown",
   "metadata": {},
   "source": [
    "## Table of contents\n",
    "* [Introduction: Business Problem](#introduction)\n",
    "* [Data](#data)\n",
    "* [Methodology](#methodology)\n",
    "* [Analysis](#analysis)\n",
    "* [Results and Discussion](#results)\n",
    "* [Conclusion](#conclusion)"
   ]
  },
  {
   "cell_type": "markdown",
   "metadata": {},
   "source": [
    "## Introduction: Business Problem <a name=\"introduction\"></a>"
   ]
  },
  {
   "cell_type": "markdown",
   "metadata": {},
   "source": [
    "The goal of this Capstone project is to explore, analyze and select the best locations in the city of New York to open a new African restaurant. Using Data Science methodology and tools, this project aims to provide solutions to answer the business question: Where in the city of New York, should the investor open an African Restaurant?"
   ]
  },
  {
   "cell_type": "markdown",
   "metadata": {},
   "source": [
    "## Data <a name=\"data\"></a>"
   ]
  },
  {
   "cell_type": "markdown",
   "metadata": {},
   "source": [
    "### To solve the problem, we will need the following data:"
   ]
  },
  {
   "cell_type": "markdown",
   "metadata": {},
   "source": [
    "New York City data containing the neighborhoods and boroughs. Latitude and longitude coordinates of those neighborhoods. This is required to plot the map and get the venue data. Venue data, particularly data related to restaurants. We are going to use this data to perform further analysis of the neighborhoods."
   ]
  },
  {
   "cell_type": "markdown",
   "metadata": {},
   "source": [
    "### Data Source and methods to extract them"
   ]
  },
  {
   "cell_type": "markdown",
   "metadata": {},
   "source": [
    "New York City data containing the neighborhoods and boroughs will be obtained from the open data source: https://cocl.us/new_york_dataset. After it, we will get the geographical coordinates of the neighborhoods (latitude and longitude) using Python Geocoder package.\n",
    "\n",
    "Finally, we will use Foursquare API to get the venue data for the neighborhoods defined at the previous step. Foursquare has one of the largest databases of 105+ million places and over 125,000 developers use this application. Foursquare API provides many categories of the venue data; we are particularly interested in the restaurant data to solve the business problem defined above.\n",
    "\n",
    "This project will require using of many data science skills, from web scrapping (open source dataset), working with API (Foursquare), data cleaning, data wrangling, to map visualization (Folium). \n"
   ]
  },
  {
   "cell_type": "markdown",
   "metadata": {},
   "source": [
    "#### First let's import all the libraries we need for this project"
   ]
  },
  {
   "cell_type": "code",
   "execution_count": 1,
   "metadata": {},
   "outputs": [
    {
     "name": "stdout",
     "output_type": "stream",
     "text": [
      "Libraries imported.\n"
     ]
    }
   ],
   "source": [
    "import numpy as np # library to handle data in a vectorized manner\n",
    "\n",
    "import pandas as pd # library for data analsysis\n",
    "pd.set_option('display.max_columns', None)\n",
    "pd.set_option('display.max_rows', None)\n",
    "\n",
    "import requests # library to handle requests\n",
    "\n",
    "#from bs4 import BeautifulSoup\n",
    "import os\n",
    "\n",
    "#!conda install -c conda-forge folium=0.5.0 --yes\n",
    "import folium # map rendering library\n",
    "\n",
    "#!conda install -c conda-forge geopy --yes\n",
    "from geopy.geocoders import Nominatim # convert an address into latitude and longitude values\n",
    "import requests # library to handle requests\n",
    "\n",
    "# Matplotlib and associated plotting modules\n",
    "import matplotlib.pyplot as plt\n",
    "import matplotlib.cm as cm\n",
    "import matplotlib.colors as colors\n",
    "%matplotlib inline\n",
    "\n",
    "import seaborn as sns\n",
    "\n",
    "print('Libraries imported.')"
   ]
  },
  {
   "cell_type": "markdown",
   "metadata": {},
   "source": [
    "## Methodology <a name=\"methodology\"></a>"
   ]
  },
  {
   "cell_type": "markdown",
   "metadata": {},
   "source": [
    "•\tData will be collected from https://cocl.us/new_york_dataset and cleaned and processed into a dataframe.\n",
    "•\tFourSquare be used to locate all venues and then filtered by African restaurants. Ratings, tips, and likes by users will be counted and added to the dataframe.\n",
    "•\tData will be sorted based on rankings.\n",
    "•\tFinally, the data be will be visually assessed using graphing from Python libraries.\n"
   ]
  },
  {
   "cell_type": "code",
   "execution_count": 2,
   "metadata": {},
   "outputs": [
    {
     "name": "stdout",
     "output_type": "stream",
     "text": [
      "Your credentails:\n",
      "CLIENT_ID: BHZCYXGUI3AZ3SFVBHEYG22H2JPBIUOKSILJO4E43KTEUKBA\n",
      "CLIENT_SECRET:5QFMNBDCPS5TQAAWBMFEGRBJ4A2TK4MCASRGPHYO0GLZO1TE\n"
     ]
    }
   ],
   "source": [
    "# Define Foursquare Credentials and Version\n",
    "CLIENT_ID = 'BHZCYXGUI3AZ3SFVBHEYG22H2JPBIUOKSILJO4E43KTEUKBA' # your Foursquare ID\n",
    "CLIENT_SECRET = '5QFMNBDCPS5TQAAWBMFEGRBJ4A2TK4MCASRGPHYO0GLZO1TE' # your Foursquare Secret\n",
    "VERSION = '20180605' # Foursquare API version\n",
    "LIMIT = 100 # A default Foursquare API limit value\n",
    "\n",
    "print('Your credentails:')\n",
    "print('CLIENT_ID: ' + CLIENT_ID)\n",
    "print('CLIENT_SECRET:' + CLIENT_SECRET)"
   ]
  },
  {
   "cell_type": "markdown",
   "metadata": {},
   "source": [
    "#### Next we define the functions we are going to use in this project"
   ]
  },
  {
   "cell_type": "code",
   "execution_count": 3,
   "metadata": {},
   "outputs": [],
   "source": [
    "# get geo location of address\n",
    "def geo_location(address):    \n",
    "    geolocator = Nominatim(user_agent=\"foursquare_agent\")\n",
    "    location = geolocator.geocode(address)\n",
    "    latitude = location.latitude\n",
    "    longitude = location.longitude\n",
    "    return latitude,longitude"
   ]
  },
  {
   "cell_type": "code",
   "execution_count": 4,
   "metadata": {},
   "outputs": [],
   "source": [
    "#locate available vanues in York \n",
    "def get_venues(lat,lng):\n",
    "    #set variables\n",
    "    radius=400\n",
    "    LIMIT=100\n",
    "    #url to fetch data from foursquare api\n",
    "    url = 'https://api.foursquare.com/v2/venues/explore?&client_id={}&client_secret={}&v={}&ll={},{}&radius={}&limit={}'.format(\n",
    "            CLIENT_ID, \n",
    "            CLIENT_SECRET, \n",
    "            VERSION, \n",
    "            lat, \n",
    "            lng, \n",
    "            radius, \n",
    "            LIMIT)\n",
    "    # get all the data\n",
    "    results = requests.get(url).json()\n",
    "    venue_data=results['response']['groups'][0]['items']\n",
    "    venue_details=[]\n",
    "    for row in venue_data:\n",
    "        try:\n",
    "            venue_id=row['venue']['id']\n",
    "            venue_name=row['venue']['name']\n",
    "            venue_category=row['venue']['categories'][0]['name']\n",
    "            venue_details.append([venue_id,venue_name,venue_category])\n",
    "        except KeyError:\n",
    "            pass\n",
    "    column_names=['ID','Name','Category']\n",
    "    df = pd.DataFrame(venue_details,columns=column_names)\n",
    "    return df"
   ]
  },
  {
   "cell_type": "code",
   "execution_count": 5,
   "metadata": {},
   "outputs": [],
   "source": [
    "def get_venue_details(venue_id):\n",
    "    #url to fetch data from foursquare api\n",
    "    url = 'https://api.foursquare.com/v2/venues/{}?&client_id={}&client_secret={}&v={}'.format(\n",
    "            venue_id,\n",
    "            CLIENT_ID, \n",
    "            CLIENT_SECRET, \n",
    "            VERSION)\n",
    "    # get all the data\n",
    "    results = requests.get(url).json()\n",
    "    print(results)\n",
    "    venue_data=results['response']['venue']\n",
    "    venue_details=[]\n",
    "    try:\n",
    "        venue_id=venue_data['id']\n",
    "        venue_name=venue_data['name']\n",
    "        venue_likes=venue_data['likes']['count']\n",
    "        venue_rating=venue_data['rating']\n",
    "        venue_tips=venue_data['tips']['count']\n",
    "        venue_details.append([venue_id,venue_name,venue_likes,venue_rating,venue_tips])\n",
    "    except KeyError:\n",
    "        pass\n",
    "    column_names=['ID','Name','Likes','Rating','Tips']\n",
    "    df = pd.DataFrame(venue_details,columns=column_names)\n",
    "    return df"
   ]
  },
  {
   "cell_type": "code",
   "execution_count": 6,
   "metadata": {},
   "outputs": [],
   "source": [
    "def get_new_york_data():\n",
    "    url='https://cocl.us/new_york_dataset'\n",
    "    resp=requests.get(url).json()\n",
    "    # all data is present in features label\n",
    "    features=resp['features']\n",
    "    # define the dataframe columns\n",
    "    column_names = ['Borough', 'Neighborhood', 'Latitude', 'Longitude'] \n",
    "    # instantiate the dataframe\n",
    "    new_york_data = pd.DataFrame(columns=column_names)\n",
    "    for data in features:\n",
    "        borough = data['properties']['borough'] \n",
    "        neighborhood_name = data['properties']['name']\n",
    "        neighborhood_latlon = data['geometry']['coordinates']\n",
    "        neighborhood_lat = neighborhood_latlon[1]\n",
    "        neighborhood_lon = neighborhood_latlon[0]\n",
    "        new_york_data = new_york_data.append({'Borough': borough,\n",
    "                                          'Neighborhood': neighborhood_name,\n",
    "                                          'Latitude': neighborhood_lat,\n",
    "                                          'Longitude': neighborhood_lon}, ignore_index=True)\n",
    "    return new_york_data"
   ]
  },
  {
   "cell_type": "markdown",
   "metadata": {},
   "source": [
    "#### Let's get initial NYC data"
   ]
  },
  {
   "cell_type": "code",
   "execution_count": 7,
   "metadata": {},
   "outputs": [
    {
     "data": {
      "text/html": [
       "<div>\n",
       "<style scoped>\n",
       "    .dataframe tbody tr th:only-of-type {\n",
       "        vertical-align: middle;\n",
       "    }\n",
       "\n",
       "    .dataframe tbody tr th {\n",
       "        vertical-align: top;\n",
       "    }\n",
       "\n",
       "    .dataframe thead th {\n",
       "        text-align: right;\n",
       "    }\n",
       "</style>\n",
       "<table border=\"1\" class=\"dataframe\">\n",
       "  <thead>\n",
       "    <tr style=\"text-align: right;\">\n",
       "      <th></th>\n",
       "      <th>Borough</th>\n",
       "      <th>Neighborhood</th>\n",
       "      <th>Latitude</th>\n",
       "      <th>Longitude</th>\n",
       "    </tr>\n",
       "  </thead>\n",
       "  <tbody>\n",
       "    <tr>\n",
       "      <th>0</th>\n",
       "      <td>Bronx</td>\n",
       "      <td>Wakefield</td>\n",
       "      <td>40.894705</td>\n",
       "      <td>-73.847201</td>\n",
       "    </tr>\n",
       "    <tr>\n",
       "      <th>1</th>\n",
       "      <td>Bronx</td>\n",
       "      <td>Co-op City</td>\n",
       "      <td>40.874294</td>\n",
       "      <td>-73.829939</td>\n",
       "    </tr>\n",
       "    <tr>\n",
       "      <th>2</th>\n",
       "      <td>Bronx</td>\n",
       "      <td>Eastchester</td>\n",
       "      <td>40.887556</td>\n",
       "      <td>-73.827806</td>\n",
       "    </tr>\n",
       "    <tr>\n",
       "      <th>3</th>\n",
       "      <td>Bronx</td>\n",
       "      <td>Fieldston</td>\n",
       "      <td>40.895437</td>\n",
       "      <td>-73.905643</td>\n",
       "    </tr>\n",
       "    <tr>\n",
       "      <th>4</th>\n",
       "      <td>Bronx</td>\n",
       "      <td>Riverdale</td>\n",
       "      <td>40.890834</td>\n",
       "      <td>-73.912585</td>\n",
       "    </tr>\n",
       "  </tbody>\n",
       "</table>\n",
       "</div>"
      ],
      "text/plain": [
       "  Borough Neighborhood   Latitude  Longitude\n",
       "0   Bronx    Wakefield  40.894705 -73.847201\n",
       "1   Bronx   Co-op City  40.874294 -73.829939\n",
       "2   Bronx  Eastchester  40.887556 -73.827806\n",
       "3   Bronx    Fieldston  40.895437 -73.905643\n",
       "4   Bronx    Riverdale  40.890834 -73.912585"
      ]
     },
     "execution_count": 7,
     "metadata": {},
     "output_type": "execute_result"
    }
   ],
   "source": [
    "ny_data = get_new_york_data()\n",
    "ny_data.head()"
   ]
  },
  {
   "cell_type": "code",
   "execution_count": 8,
   "metadata": {},
   "outputs": [
    {
     "data": {
      "text/plain": [
       "(306, 4)"
      ]
     },
     "execution_count": 8,
     "metadata": {},
     "output_type": "execute_result"
    }
   ],
   "source": [
    "ny_data.shape"
   ]
  },
  {
   "cell_type": "markdown",
   "metadata": {},
   "source": [
    "## Analysis <a name=\"analysis\"></a>"
   ]
  },
  {
   "cell_type": "markdown",
   "metadata": {},
   "source": [
    "#### Next let's explore and analyse the data to get more insights: compare neigborhoods as each scaleup with each other"
   ]
  },
  {
   "cell_type": "code",
   "execution_count": 9,
   "metadata": {},
   "outputs": [
    {
     "data": {
      "image/png": "[encoded data removed]",
      "text/plain": [
       "<Figure size 720x360 with 1 Axes>"
      ]
     },
     "metadata": {
      "needs_background": "light"
     },
     "output_type": "display_data"
    }
   ],
   "source": [
    "clr = \"orange\"\n",
    "ny_data.groupby('Borough')['Neighborhood'].count().plot.bar(figsize=(10,5), color=clr)\n",
    "plt.title('Neighborhoods per Borough: NYC', fontsize = 20)\n",
    "plt.xlabel('Borough', fontsize = 15)\n",
    "plt.ylabel('No. Neighborhoods',fontsize = 15)\n",
    "plt.xticks(rotation = 'horizontal')\n",
    "plt.legend()\n",
    "plt.show()"
   ]
  },
  {
   "cell_type": "markdown",
   "metadata": {},
   "source": [
    "#### Let's see how many African restaurants are there in each neighborhood and borough."
   ]
  },
  {
   "cell_type": "code",
   "execution_count": 10,
   "metadata": {},
   "outputs": [
    {
     "name": "stdout",
     "output_type": "stream",
     "text": [
      "( 1 / 306 ) African Restaurants in Wakefield, Bronx:0\n",
      "['Bronx', 'Wakefield', 40.89470517661, -73.84720052054902]\n",
      "( 2 / 306 ) African Restaurants in Co-op City, Bronx:0\n",
      "['Bronx', 'Co-op City', 40.87429419303012, -73.82993910812398]\n",
      "( 3 / 306 ) African Restaurants in Eastchester, Bronx:0\n",
      "['Bronx', 'Eastchester', 40.887555677350775, -73.82780644716412]\n",
      "( 4 / 306 ) African Restaurants in Fieldston, Bronx:0\n",
      "['Bronx', 'Fieldston', 40.89543742690383, -73.90564259591682]\n",
      "( 5 / 306 ) African Restaurants in Riverdale, Bronx:0\n",
      "['Bronx', 'Riverdale', 40.890834493891305, -73.9125854610857]\n",
      "( 6 / 306 ) African Restaurants in Kingsbridge, Bronx:0\n",
      "['Bronx', 'Kingsbridge', 40.88168737120521, -73.90281798724604]\n",
      "( 7 / 306 ) African Restaurants in Marble Hill, Manhattan:0\n",
      "['Manhattan', 'Marble Hill', 40.87655077879964, -73.91065965862981]\n",
      "( 8 / 306 ) African Restaurants in Woodlawn, Bronx:0\n",
      "['Bronx', 'Woodlawn', 40.89827261213805, -73.86731496814176]\n",
      "( 9 / 306 ) African Restaurants in Norwood, Bronx:0\n",
      "['Bronx', 'Norwood', 40.87722415599446, -73.8793907395681]\n",
      "( 10 / 306 ) African Restaurants in Williamsbridge, Bronx:0\n",
      "['Bronx', 'Williamsbridge', 40.88103887819211, -73.85744642974207]\n",
      "( 11 / 306 ) African Restaurants in Baychester, Bronx:0\n",
      "['Bronx', 'Baychester', 40.866858107252696, -73.83579759808117]\n",
      "( 12 / 306 ) African Restaurants in Pelham Parkway, Bronx:0\n",
      "['Bronx', 'Pelham Parkway', 40.85741349808865, -73.85475564017999]\n",
      "( 13 / 306 ) African Restaurants in City Island, Bronx:0\n",
      "['Bronx', 'City Island', 40.84724670491813, -73.78648845267413]\n",
      "( 14 / 306 ) African Restaurants in Bedford Park, Bronx:0\n",
      "['Bronx', 'Bedford Park', 40.870185164975325, -73.8855121841913]\n",
      "( 15 / 306 ) African Restaurants in University Heights, Bronx:1\n",
      "['Bronx', 'University Heights', 40.85572707719664, -73.9104159619131]\n",
      "( 16 / 306 ) African Restaurants in Morris Heights, Bronx:0\n",
      "['Bronx', 'Morris Heights', 40.84789792606271, -73.91967159119565]\n",
      "( 17 / 306 ) African Restaurants in Fordham, Bronx:0\n",
      "['Bronx', 'Fordham', 40.86099679638654, -73.89642655981623]\n",
      "( 18 / 306 ) African Restaurants in East Tremont, Bronx:0\n",
      "['Bronx', 'East Tremont', 40.84269615786053, -73.88735617532338]\n",
      "( 19 / 306 ) African Restaurants in West Farms, Bronx:0\n",
      "['Bronx', 'West Farms', 40.83947505672653, -73.87774474910545]\n",
      "( 20 / 306 ) African Restaurants in High  Bridge, Bronx:0\n",
      "['Bronx', 'High  Bridge', 40.836623010706056, -73.9261020935813]\n",
      "( 21 / 306 ) African Restaurants in Melrose, Bronx:0\n",
      "['Bronx', 'Melrose', 40.819754370594936, -73.90942160757436]\n",
      "( 22 / 306 ) African Restaurants in Mott Haven, Bronx:0\n",
      "['Bronx', 'Mott Haven', 40.80623874935177, -73.91609987487575]\n",
      "( 23 / 306 ) African Restaurants in Port Morris, Bronx:0\n",
      "['Bronx', 'Port Morris', 40.801663627756206, -73.91322139386135]\n",
      "( 24 / 306 ) African Restaurants in Longwood, Bronx:0\n",
      "['Bronx', 'Longwood', 40.81509904545822, -73.8957882009446]\n",
      "( 25 / 306 ) African Restaurants in Hunts Point, Bronx:0\n",
      "['Bronx', 'Hunts Point', 40.80972987938709, -73.88331505955291]\n",
      "( 26 / 306 ) African Restaurants in Morrisania, Bronx:0\n",
      "['Bronx', 'Morrisania', 40.82359198585534, -73.90150648943059]\n",
      "( 27 / 306 ) African Restaurants in Soundview, Bronx:0\n",
      "['Bronx', 'Soundview', 40.821012197914015, -73.86574609554924]\n",
      "( 28 / 306 ) African Restaurants in Clason Point, Bronx:0\n",
      "['Bronx', 'Clason Point', 40.80655112003589, -73.85414416189266]\n",
      "( 29 / 306 ) African Restaurants in Throgs Neck, Bronx:0\n",
      "['Bronx', 'Throgs Neck', 40.81510925804005, -73.81635002158441]\n",
      "( 30 / 306 ) African Restaurants in Country Club, Bronx:0\n",
      "['Bronx', 'Country Club', 40.844245936947374, -73.8240992675385]\n",
      "( 31 / 306 ) African Restaurants in Parkchester, Bronx:0\n",
      "['Bronx', 'Parkchester', 40.837937822267286, -73.85600310535783]\n",
      "( 32 / 306 ) African Restaurants in Westchester Square, Bronx:0\n",
      "['Bronx', 'Westchester Square', 40.8406194964327, -73.84219407604444]\n",
      "( 33 / 306 ) African Restaurants in Van Nest, Bronx:0\n",
      "['Bronx', 'Van Nest', 40.84360847124718, -73.8662991807561]\n",
      "( 34 / 306 ) African Restaurants in Morris Park, Bronx:0\n",
      "['Bronx', 'Morris Park', 40.847549063536334, -73.85040178030421]\n",
      "( 35 / 306 ) African Restaurants in Belmont, Bronx:0\n",
      "['Bronx', 'Belmont', 40.85727710073895, -73.88845196134804]\n",
      "( 36 / 306 ) African Restaurants in Spuyten Duyvil, Bronx:0\n",
      "['Bronx', 'Spuyten Duyvil', 40.88139497727086, -73.91719048210393]\n",
      "( 37 / 306 ) African Restaurants in North Riverdale, Bronx:0\n",
      "['Bronx', 'North Riverdale', 40.90854282950666, -73.90453054908927]\n",
      "( 38 / 306 ) African Restaurants in Pelham Bay, Bronx:0\n",
      "['Bronx', 'Pelham Bay', 40.85064140940335, -73.8320737824047]\n",
      "( 39 / 306 ) African Restaurants in Schuylerville, Bronx:0\n",
      "['Bronx', 'Schuylerville', 40.82657951686922, -73.82620275994073]\n",
      "( 40 / 306 ) African Restaurants in Edgewater Park, Bronx:0\n",
      "['Bronx', 'Edgewater Park', 40.821986118163494, -73.81388514428619]\n",
      "( 41 / 306 ) African Restaurants in Castle Hill, Bronx:0\n",
      "['Bronx', 'Castle Hill', 40.819014376988314, -73.84802729582735]\n",
      "( 42 / 306 ) African Restaurants in Olinville, Bronx:0\n",
      "['Bronx', 'Olinville', 40.87137078192371, -73.86332361652777]\n",
      "( 43 / 306 ) African Restaurants in Pelham Gardens, Bronx:0\n",
      "['Bronx', 'Pelham Gardens', 40.86296562477998, -73.84161194831223]\n",
      "( 44 / 306 ) African Restaurants in Concourse, Bronx:0\n",
      "['Bronx', 'Concourse', 40.83428380733851, -73.91558941773444]\n",
      "( 45 / 306 ) African Restaurants in Unionport, Bronx:0\n",
      "['Bronx', 'Unionport', 40.82977429787161, -73.85053524451935]\n",
      "( 46 / 306 ) African Restaurants in Edenwald, Bronx:0\n",
      "['Bronx', 'Edenwald', 40.88456130303732, -73.84808271877168]\n",
      "( 47 / 306 ) African Restaurants in Bay Ridge, Brooklyn:0\n",
      "['Brooklyn', 'Bay Ridge', 40.625801065010656, -74.03062069353813]\n",
      "( 48 / 306 ) African Restaurants in Bensonhurst, Brooklyn:0\n",
      "['Brooklyn', 'Bensonhurst', 40.61100890202044, -73.99517998380729]\n",
      "( 49 / 306 ) African Restaurants in Sunset Park, Brooklyn:0\n",
      "['Brooklyn', 'Sunset Park', 40.64510294925429, -74.01031618527784]\n",
      "( 50 / 306 ) African Restaurants in Greenpoint, Brooklyn:0\n",
      "['Brooklyn', 'Greenpoint', 40.7302009848647, -73.95424093127393]\n",
      "( 51 / 306 ) African Restaurants in Gravesend, Brooklyn:0\n",
      "['Brooklyn', 'Gravesend', 40.59526001306593, -73.97347087708445]\n",
      "( 52 / 306 ) African Restaurants in Brighton Beach, Brooklyn:0\n",
      "['Brooklyn', 'Brighton Beach', 40.57682506566604, -73.96509448785336]\n",
      "( 53 / 306 ) African Restaurants in Sheepshead Bay, Brooklyn:0\n",
      "['Brooklyn', 'Sheepshead Bay', 40.58689012678384, -73.94318640482979]\n",
      "( 54 / 306 ) African Restaurants in Manhattan Terrace, Brooklyn:0\n",
      "['Brooklyn', 'Manhattan Terrace', 40.61443251335098, -73.95743840559939]\n",
      "( 55 / 306 ) African Restaurants in Flatbush, Brooklyn:0\n",
      "['Brooklyn', 'Flatbush', 40.63632589026677, -73.95840106533903]\n",
      "( 56 / 306 ) African Restaurants in Crown Heights, Brooklyn:0\n",
      "['Brooklyn', 'Crown Heights', 40.67082917695294, -73.94329119073582]\n",
      "( 57 / 306 ) African Restaurants in East Flatbush, Brooklyn:0\n",
      "['Brooklyn', 'East Flatbush', 40.64171776668961, -73.93610256185836]\n",
      "( 58 / 306 ) African Restaurants in Kensington, Brooklyn:0\n",
      "['Brooklyn', 'Kensington', 40.642381958003526, -73.98042110559474]\n",
      "( 59 / 306 ) African Restaurants in Windsor Terrace, Brooklyn:0\n",
      "['Brooklyn', 'Windsor Terrace', 40.65694583575104, -73.98007340430172]\n",
      "( 60 / 306 ) African Restaurants in Prospect Heights, Brooklyn:0\n",
      "['Brooklyn', 'Prospect Heights', 40.676822262254724, -73.9648592426269]\n",
      "( 61 / 306 ) African Restaurants in Brownsville, Brooklyn:0\n",
      "['Brooklyn', 'Brownsville', 40.66394994339755, -73.91023536176607]\n",
      "( 62 / 306 ) African Restaurants in Williamsburg, Brooklyn:0\n",
      "['Brooklyn', 'Williamsburg', 40.70714439344251, -73.95811529220927]\n",
      "( 63 / 306 ) African Restaurants in Bushwick, Brooklyn:0\n",
      "['Brooklyn', 'Bushwick', 40.69811611017901, -73.92525797487045]\n",
      "( 64 / 306 ) African Restaurants in Bedford Stuyvesant, Brooklyn:0\n",
      "['Brooklyn', 'Bedford Stuyvesant', 40.687231607720456, -73.94178488690297]\n",
      "( 65 / 306 ) African Restaurants in Brooklyn Heights, Brooklyn:0\n",
      "['Brooklyn', 'Brooklyn Heights', 40.695863722724084, -73.99378225496424]\n",
      "( 66 / 306 ) African Restaurants in Cobble Hill, Brooklyn:0\n",
      "['Brooklyn', 'Cobble Hill', 40.687919722485574, -73.99856139218463]\n",
      "( 67 / 306 ) African Restaurants in Carroll Gardens, Brooklyn:0\n",
      "['Brooklyn', 'Carroll Gardens', 40.680540231076485, -73.99465372828006]\n"
     ]
    },
    {
     "name": "stdout",
     "output_type": "stream",
     "text": [
      "( 68 / 306 ) African Restaurants in Red Hook, Brooklyn:0\n",
      "['Brooklyn', 'Red Hook', 40.676253230250886, -74.0127589747356]\n",
      "( 69 / 306 ) African Restaurants in Gowanus, Brooklyn:0\n",
      "['Brooklyn', 'Gowanus', 40.673931143187154, -73.99444087145339]\n",
      "( 70 / 306 ) African Restaurants in Fort Greene, Brooklyn:0\n",
      "['Brooklyn', 'Fort Greene', 40.68852726018977, -73.97290574369092]\n",
      "( 71 / 306 ) African Restaurants in Park Slope, Brooklyn:0\n",
      "['Brooklyn', 'Park Slope', 40.67232052268197, -73.97705030183924]\n",
      "( 72 / 306 ) African Restaurants in Cypress Hills, Brooklyn:0\n",
      "['Brooklyn', 'Cypress Hills', 40.68239101144211, -73.87661596457296]\n",
      "( 73 / 306 ) African Restaurants in East New York, Brooklyn:0\n",
      "['Brooklyn', 'East New York', 40.669925700847045, -73.88069863917366]\n",
      "( 74 / 306 ) African Restaurants in Starrett City, Brooklyn:0\n",
      "['Brooklyn', 'Starrett City', 40.64758905230874, -73.87936970045875]\n",
      "( 75 / 306 ) African Restaurants in Canarsie, Brooklyn:0\n",
      "['Brooklyn', 'Canarsie', 40.63556432797428, -73.90209269778966]\n",
      "( 76 / 306 ) African Restaurants in Flatlands, Brooklyn:0\n",
      "['Brooklyn', 'Flatlands', 40.630446043757466, -73.92911302644674]\n",
      "( 77 / 306 ) African Restaurants in Mill Island, Brooklyn:0\n",
      "['Brooklyn', 'Mill Island', 40.606336421685626, -73.90818571777423]\n",
      "( 78 / 306 ) African Restaurants in Manhattan Beach, Brooklyn:0\n",
      "['Brooklyn', 'Manhattan Beach', 40.57791350308657, -73.94353722891886]\n",
      "( 79 / 306 ) African Restaurants in Coney Island, Brooklyn:0\n",
      "['Brooklyn', 'Coney Island', 40.57429256471601, -73.98868295821637]\n",
      "( 80 / 306 ) African Restaurants in Bath Beach, Brooklyn:0\n",
      "['Brooklyn', 'Bath Beach', 40.59951870282238, -73.99875221443519]\n",
      "( 81 / 306 ) African Restaurants in Borough Park, Brooklyn:0\n",
      "['Brooklyn', 'Borough Park', 40.633130512758015, -73.99049823044811]\n",
      "( 82 / 306 ) African Restaurants in Dyker Heights, Brooklyn:0\n",
      "['Brooklyn', 'Dyker Heights', 40.619219457722636, -74.01931375636022]\n",
      "( 83 / 306 ) African Restaurants in Gerritsen Beach, Brooklyn:0\n",
      "['Brooklyn', 'Gerritsen Beach', 40.590848433902046, -73.93010170691196]\n",
      "( 84 / 306 ) African Restaurants in Marine Park, Brooklyn:0\n",
      "['Brooklyn', 'Marine Park', 40.609747779894604, -73.93134404108497]\n",
      "( 85 / 306 ) African Restaurants in Clinton Hill, Brooklyn:0\n",
      "['Brooklyn', 'Clinton Hill', 40.693229421881504, -73.96784306216367]\n",
      "( 86 / 306 ) African Restaurants in Sea Gate, Brooklyn:0\n",
      "['Brooklyn', 'Sea Gate', 40.57637537890224, -74.0078731120024]\n",
      "( 87 / 306 ) African Restaurants in Downtown, Brooklyn:0\n",
      "['Brooklyn', 'Downtown', 40.69084402109802, -73.98346337431099]\n",
      "( 88 / 306 ) African Restaurants in Boerum Hill, Brooklyn:0\n",
      "['Brooklyn', 'Boerum Hill', 40.685682912091444, -73.98374824115798]\n",
      "( 89 / 306 ) African Restaurants in Prospect Lefferts Gardens, Brooklyn:0\n",
      "['Brooklyn', 'Prospect Lefferts Gardens', 40.658420017469815, -73.95489867077713]\n",
      "( 90 / 306 ) African Restaurants in Ocean Hill, Brooklyn:0\n",
      "['Brooklyn', 'Ocean Hill', 40.678402554795355, -73.91306831787395]\n",
      "( 91 / 306 ) African Restaurants in City Line, Brooklyn:0\n",
      "['Brooklyn', 'City Line', 40.67856995727479, -73.86797598081334]\n",
      "( 92 / 306 ) African Restaurants in Bergen Beach, Brooklyn:0\n",
      "['Brooklyn', 'Bergen Beach', 40.61514955045308, -73.89855633630317]\n",
      "( 93 / 306 ) African Restaurants in Midwood, Brooklyn:0\n",
      "['Brooklyn', 'Midwood', 40.62559589869843, -73.95759523489838]\n",
      "( 94 / 306 ) African Restaurants in Prospect Park South, Brooklyn:0\n",
      "['Brooklyn', 'Prospect Park South', 40.647008603185185, -73.96261316716048]\n",
      "( 95 / 306 ) African Restaurants in Georgetown, Brooklyn:0\n",
      "['Brooklyn', 'Georgetown', 40.62384524478419, -73.91607483951324]\n",
      "( 96 / 306 ) African Restaurants in East Williamsburg, Brooklyn:0\n",
      "['Brooklyn', 'East Williamsburg', 40.70849241041548, -73.93885815269195]\n",
      "( 97 / 306 ) African Restaurants in North Side, Brooklyn:0\n",
      "['Brooklyn', 'North Side', 40.714822906532014, -73.95880857587582]\n",
      "( 98 / 306 ) African Restaurants in South Side, Brooklyn:0\n",
      "['Brooklyn', 'South Side', 40.71086147265064, -73.95800095153331]\n",
      "( 99 / 306 ) African Restaurants in Ocean Parkway, Brooklyn:0\n",
      "['Brooklyn', 'Ocean Parkway', 40.61305976667942, -73.96836678035541]\n",
      "( 100 / 306 ) African Restaurants in Fort Hamilton, Brooklyn:0\n",
      "['Brooklyn', 'Fort Hamilton', 40.61476812694226, -74.03197914537984]\n",
      "( 101 / 306 ) African Restaurants in Chinatown, Manhattan:0\n",
      "['Manhattan', 'Chinatown', 40.71561842231432, -73.99427936255978]\n",
      "( 102 / 306 ) African Restaurants in Washington Heights, Manhattan:0\n",
      "['Manhattan', 'Washington Heights', 40.85190252555305, -73.93690027985234]\n",
      "( 103 / 306 ) African Restaurants in Inwood, Manhattan:0\n",
      "['Manhattan', 'Inwood', 40.86768396449915, -73.92121042203897]\n",
      "( 104 / 306 ) African Restaurants in Hamilton Heights, Manhattan:0\n",
      "['Manhattan', 'Hamilton Heights', 40.823604284811935, -73.94968791883366]\n",
      "( 105 / 306 ) African Restaurants in Manhattanville, Manhattan:0\n",
      "['Manhattan', 'Manhattanville', 40.8169344294978, -73.9573853935188]\n",
      "( 106 / 306 ) African Restaurants in Central Harlem, Manhattan:3\n",
      "['Manhattan', 'Central Harlem', 40.81597606742414, -73.94321112603905]\n",
      "( 107 / 306 ) African Restaurants in East Harlem, Manhattan:0\n",
      "['Manhattan', 'East Harlem', 40.79224946663033, -73.94418223148524]\n",
      "( 108 / 306 ) African Restaurants in Upper East Side, Manhattan:0\n",
      "['Manhattan', 'Upper East Side', 40.775638573301805, -73.96050763135]\n",
      "( 109 / 306 ) African Restaurants in Yorkville, Manhattan:0\n",
      "['Manhattan', 'Yorkville', 40.775929849884875, -73.94711784471826]\n",
      "( 110 / 306 ) African Restaurants in Lenox Hill, Manhattan:0\n",
      "['Manhattan', 'Lenox Hill', 40.76811265828733, -73.9588596881376]\n",
      "( 111 / 306 ) African Restaurants in Roosevelt Island, Manhattan:0\n",
      "['Manhattan', 'Roosevelt Island', 40.76215960576283, -73.94916769227953]\n",
      "( 112 / 306 ) African Restaurants in Upper West Side, Manhattan:0\n",
      "['Manhattan', 'Upper West Side', 40.787657998534854, -73.97705923630603]\n",
      "( 113 / 306 ) African Restaurants in Lincoln Square, Manhattan:0\n",
      "['Manhattan', 'Lincoln Square', 40.77352888942166, -73.98533777001262]\n",
      "( 114 / 306 ) African Restaurants in Clinton, Manhattan:0\n",
      "['Manhattan', 'Clinton', 40.75910089146212, -73.99611936309479]\n",
      "( 115 / 306 ) African Restaurants in Midtown, Manhattan:0\n",
      "['Manhattan', 'Midtown', 40.75469110270623, -73.98166882730304]\n",
      "( 116 / 306 ) African Restaurants in Murray Hill, Manhattan:0\n",
      "['Manhattan', 'Murray Hill', 40.748303077252174, -73.97833207924127]\n",
      "( 117 / 306 ) African Restaurants in Chelsea, Manhattan:0\n",
      "['Manhattan', 'Chelsea', 40.744034706747975, -74.00311633472813]\n",
      "( 118 / 306 ) African Restaurants in Greenwich Village, Manhattan:0\n",
      "['Manhattan', 'Greenwich Village', 40.72693288536128, -73.99991402945902]\n",
      "( 119 / 306 ) African Restaurants in East Village, Manhattan:0\n",
      "['Manhattan', 'East Village', 40.727846777270244, -73.98222616506416]\n",
      "( 120 / 306 ) African Restaurants in Lower East Side, Manhattan:0\n",
      "['Manhattan', 'Lower East Side', 40.71780674892765, -73.98089031999291]\n",
      "( 121 / 306 ) African Restaurants in Tribeca, Manhattan:0\n",
      "['Manhattan', 'Tribeca', 40.721521967443216, -74.01068328559087]\n",
      "( 122 / 306 ) African Restaurants in Little Italy, Manhattan:0\n",
      "['Manhattan', 'Little Italy', 40.71932379395907, -73.99730467208073]\n",
      "( 123 / 306 ) African Restaurants in Soho, Manhattan:0\n",
      "['Manhattan', 'Soho', 40.72218384131794, -74.00065666959759]\n",
      "( 124 / 306 ) African Restaurants in West Village, Manhattan:0\n",
      "['Manhattan', 'West Village', 40.73443393572434, -74.00617998126812]\n",
      "( 125 / 306 ) African Restaurants in Manhattan Valley, Manhattan:0\n",
      "['Manhattan', 'Manhattan Valley', 40.797307041702865, -73.96428617740655]\n",
      "( 126 / 306 ) African Restaurants in Morningside Heights, Manhattan:0\n",
      "['Manhattan', 'Morningside Heights', 40.807999738165826, -73.96389627905332]\n",
      "( 127 / 306 ) African Restaurants in Gramercy, Manhattan:0\n",
      "['Manhattan', 'Gramercy', 40.737209832715, -73.98137594833541]\n",
      "( 128 / 306 ) African Restaurants in Battery Park City, Manhattan:0\n",
      "['Manhattan', 'Battery Park City', 40.71193198394565, -74.01686930508617]\n",
      "( 129 / 306 ) African Restaurants in Financial District, Manhattan:0\n",
      "['Manhattan', 'Financial District', 40.70710710727048, -74.0106654452127]\n",
      "( 130 / 306 ) African Restaurants in Astoria, Queens:0\n",
      "['Queens', 'Astoria', 40.76850859335492, -73.91565374304234]\n"
     ]
    },
    {
     "name": "stdout",
     "output_type": "stream",
     "text": [
      "( 131 / 306 ) African Restaurants in Woodside, Queens:0\n",
      "['Queens', 'Woodside', 40.74634908860222, -73.90184166838284]\n",
      "( 132 / 306 ) African Restaurants in Jackson Heights, Queens:0\n",
      "['Queens', 'Jackson Heights', 40.75198138007367, -73.88282109164365]\n",
      "( 133 / 306 ) African Restaurants in Elmhurst, Queens:0\n",
      "['Queens', 'Elmhurst', 40.744048505122024, -73.88165622288388]\n",
      "( 134 / 306 ) African Restaurants in Howard Beach, Queens:0\n",
      "['Queens', 'Howard Beach', 40.65422527738487, -73.8381376460028]\n",
      "( 135 / 306 ) African Restaurants in Corona, Queens:0\n",
      "['Queens', 'Corona', 40.74238175015667, -73.85682497345258]\n",
      "( 136 / 306 ) African Restaurants in Forest Hills, Queens:0\n",
      "['Queens', 'Forest Hills', 40.72526378216503, -73.84447500788983]\n",
      "( 137 / 306 ) African Restaurants in Kew Gardens, Queens:0\n",
      "['Queens', 'Kew Gardens', 40.7051790354148, -73.82981905825703]\n",
      "( 138 / 306 ) African Restaurants in Richmond Hill, Queens:0\n",
      "['Queens', 'Richmond Hill', 40.69794731471763, -73.83183321446887]\n",
      "( 139 / 306 ) African Restaurants in Flushing, Queens:0\n",
      "['Queens', 'Flushing', 40.76445419697846, -73.83177300329582]\n",
      "( 140 / 306 ) African Restaurants in Long Island City, Queens:0\n",
      "['Queens', 'Long Island City', 40.75021734610528, -73.93920223915505]\n",
      "( 141 / 306 ) African Restaurants in Sunnyside, Queens:0\n",
      "['Queens', 'Sunnyside', 40.74017628351924, -73.92691617561577]\n",
      "( 142 / 306 ) African Restaurants in East Elmhurst, Queens:0\n",
      "['Queens', 'East Elmhurst', 40.76407323883091, -73.86704147658772]\n",
      "( 143 / 306 ) African Restaurants in Maspeth, Queens:0\n",
      "['Queens', 'Maspeth', 40.725427374093606, -73.89621713626859]\n",
      "( 144 / 306 ) African Restaurants in Ridgewood, Queens:0\n",
      "['Queens', 'Ridgewood', 40.70832315613858, -73.90143517559589]\n",
      "( 145 / 306 ) African Restaurants in Glendale, Queens:0\n",
      "['Queens', 'Glendale', 40.70276242967838, -73.87074167435605]\n",
      "( 146 / 306 ) African Restaurants in Rego Park, Queens:0\n",
      "['Queens', 'Rego Park', 40.72897409480735, -73.8578268690537]\n",
      "( 147 / 306 ) African Restaurants in Woodhaven, Queens:0\n",
      "['Queens', 'Woodhaven', 40.68988687915789, -73.8581104655432]\n",
      "( 148 / 306 ) African Restaurants in Ozone Park, Queens:0\n",
      "['Queens', 'Ozone Park', 40.680708468265415, -73.84320266173447]\n",
      "( 149 / 306 ) African Restaurants in South Ozone Park, Queens:0\n",
      "['Queens', 'South Ozone Park', 40.66854957767195, -73.80986478649041]\n",
      "( 150 / 306 ) African Restaurants in College Point, Queens:0\n",
      "['Queens', 'College Point', 40.784902749260205, -73.84304528896125]\n",
      "( 151 / 306 ) African Restaurants in Whitestone, Queens:0\n",
      "['Queens', 'Whitestone', 40.78129076602694, -73.81420216610863]\n",
      "( 152 / 306 ) African Restaurants in Bayside, Queens:0\n",
      "['Queens', 'Bayside', 40.76604063281064, -73.7742736306867]\n",
      "( 153 / 306 ) African Restaurants in Auburndale, Queens:0\n",
      "['Queens', 'Auburndale', 40.76172954903262, -73.79176243728061]\n",
      "( 154 / 306 ) African Restaurants in Little Neck, Queens:0\n",
      "['Queens', 'Little Neck', 40.7708261928267, -73.7388977558074]\n",
      "( 155 / 306 ) African Restaurants in Douglaston, Queens:0\n",
      "['Queens', 'Douglaston', 40.76684609790763, -73.7424982072733]\n",
      "( 156 / 306 ) African Restaurants in Glen Oaks, Queens:0\n",
      "['Queens', 'Glen Oaks', 40.74944079974332, -73.71548118999145]\n",
      "( 157 / 306 ) African Restaurants in Bellerose, Queens:0\n",
      "['Queens', 'Bellerose', 40.72857318176675, -73.72012814826903]\n",
      "( 158 / 306 ) African Restaurants in Kew Gardens Hills, Queens:0\n",
      "['Queens', 'Kew Gardens Hills', 40.722578244228046, -73.82087764933566]\n",
      "( 159 / 306 ) African Restaurants in Fresh Meadows, Queens:0\n",
      "['Queens', 'Fresh Meadows', 40.7343944653313, -73.78271337003264]\n",
      "( 160 / 306 ) African Restaurants in Briarwood, Queens:0\n",
      "['Queens', 'Briarwood', 40.71093547252271, -73.81174822458634]\n",
      "( 161 / 306 ) African Restaurants in Jamaica Center, Queens:0\n",
      "['Queens', 'Jamaica Center', 40.70465736068717, -73.79690165888289]\n",
      "( 162 / 306 ) African Restaurants in Oakland Gardens, Queens:0\n",
      "['Queens', 'Oakland Gardens', 40.74561857141855, -73.75494976234332]\n",
      "( 163 / 306 ) African Restaurants in Queens Village, Queens:0\n",
      "['Queens', 'Queens Village', 40.718893092167356, -73.73871484578424]\n",
      "( 164 / 306 ) African Restaurants in Hollis, Queens:0\n",
      "['Queens', 'Hollis', 40.71124344191904, -73.75925009335594]\n",
      "( 165 / 306 ) African Restaurants in South Jamaica, Queens:0\n",
      "['Queens', 'South Jamaica', 40.696911253789885, -73.7904261313554]\n",
      "( 166 / 306 ) African Restaurants in St. Albans, Queens:0\n",
      "['Queens', 'St. Albans', 40.69444538522359, -73.75867603727717]\n",
      "( 167 / 306 ) African Restaurants in Rochdale, Queens:0\n",
      "['Queens', 'Rochdale', 40.67521139591733, -73.77258787620906]\n",
      "( 168 / 306 ) African Restaurants in Springfield Gardens, Queens:0\n",
      "['Queens', 'Springfield Gardens', 40.666230490368584, -73.76042092682287]\n",
      "( 169 / 306 ) African Restaurants in Cambria Heights, Queens:0\n",
      "['Queens', 'Cambria Heights', 40.692774639160845, -73.73526873708026]\n",
      "( 170 / 306 ) African Restaurants in Rosedale, Queens:0\n",
      "['Queens', 'Rosedale', 40.659816433428084, -73.73526079428278]\n",
      "( 171 / 306 ) African Restaurants in Far Rockaway, Queens:0\n",
      "['Queens', 'Far Rockaway', 40.603134432500894, -73.75497968043872]\n",
      "( 172 / 306 ) African Restaurants in Broad Channel, Queens:0\n",
      "['Queens', 'Broad Channel', 40.60302658351238, -73.8200548911032]\n",
      "( 173 / 306 ) African Restaurants in Breezy Point, Queens:0\n",
      "['Queens', 'Breezy Point', 40.55740128845452, -73.92551196994168]\n",
      "( 174 / 306 ) African Restaurants in Steinway, Queens:0\n",
      "['Queens', 'Steinway', 40.775923015642896, -73.90228960391673]\n",
      "( 175 / 306 ) African Restaurants in Beechhurst, Queens:0\n",
      "['Queens', 'Beechhurst', 40.79278140360048, -73.80436451720988]\n",
      "( 176 / 306 ) African Restaurants in Bay Terrace, Queens:0\n",
      "['Queens', 'Bay Terrace', 40.782842806245554, -73.7768022262158]\n",
      "( 177 / 306 ) African Restaurants in Edgemere, Queens:0\n",
      "['Queens', 'Edgemere', 40.595641807368494, -73.77613282391705]\n",
      "( 178 / 306 ) African Restaurants in Arverne, Queens:0\n",
      "['Queens', 'Arverne', 40.58914394372971, -73.79199233136943]\n",
      "( 179 / 306 ) African Restaurants in Rockaway Beach, Queens:0\n",
      "['Queens', 'Rockaway Beach', 40.582801696845586, -73.82236121088751]\n",
      "( 180 / 306 ) African Restaurants in Neponsit, Queens:0\n",
      "['Queens', 'Neponsit', 40.572036730217015, -73.85754672410827]\n",
      "( 181 / 306 ) African Restaurants in Murray Hill, Queens:0\n",
      "['Queens', 'Murray Hill', 40.764126122614066, -73.81276269135866]\n",
      "( 182 / 306 ) African Restaurants in Floral Park, Queens:0\n",
      "['Queens', 'Floral Park', 40.741378421945434, -73.70884705889246]\n",
      "( 183 / 306 ) African Restaurants in Holliswood, Queens:0\n",
      "['Queens', 'Holliswood', 40.7209572076444, -73.76714166714729]\n",
      "( 184 / 306 ) African Restaurants in Jamaica Estates, Queens:0\n",
      "['Queens', 'Jamaica Estates', 40.71680483014613, -73.7872269693666]\n",
      "( 185 / 306 ) African Restaurants in Queensboro Hill, Queens:0\n",
      "['Queens', 'Queensboro Hill', 40.7445723092867, -73.82580915110559]\n",
      "( 186 / 306 ) African Restaurants in Hillcrest, Queens:0\n",
      "['Queens', 'Hillcrest', 40.723824901829204, -73.79760300912672]\n",
      "( 187 / 306 ) African Restaurants in Ravenswood, Queens:0\n",
      "['Queens', 'Ravenswood', 40.761704526054146, -73.93157506072878]\n",
      "( 188 / 306 ) African Restaurants in Lindenwood, Queens:0\n",
      "['Queens', 'Lindenwood', 40.66391841925139, -73.84963782402441]\n",
      "( 189 / 306 ) African Restaurants in Laurelton, Queens:0\n",
      "['Queens', 'Laurelton', 40.66788389660247, -73.74025607989822]\n",
      "( 190 / 306 ) African Restaurants in Lefrak City, Queens:0\n",
      "['Queens', 'Lefrak City', 40.736074570830795, -73.8625247141374]\n",
      "( 191 / 306 ) African Restaurants in Belle Harbor, Queens:0\n",
      "['Queens', 'Belle Harbor', 40.57615556543109, -73.8540175039252]\n",
      "( 192 / 306 ) African Restaurants in Rockaway Park, Queens:0\n",
      "['Queens', 'Rockaway Park', 40.58034295646131, -73.84153370226186]\n",
      "( 193 / 306 ) African Restaurants in Somerville, Queens:0\n",
      "['Queens', 'Somerville', 40.59771061565768, -73.79664750844047]\n",
      "( 194 / 306 ) African Restaurants in Brookville, Queens:0\n",
      "['Queens', 'Brookville', 40.66000322733613, -73.75175310731153]\n",
      "( 195 / 306 ) African Restaurants in Bellaire, Queens:0\n",
      "['Queens', 'Bellaire', 40.73301404027834, -73.73889198912481]\n",
      "( 196 / 306 ) African Restaurants in North Corona, Queens:0\n",
      "['Queens', 'North Corona', 40.7540709990489, -73.85751790676447]\n",
      "( 197 / 306 ) African Restaurants in Forest Hills Gardens, Queens:0\n",
      "['Queens', 'Forest Hills Gardens', 40.7146110815117, -73.8410221123401]\n"
     ]
    },
    {
     "name": "stdout",
     "output_type": "stream",
     "text": [
      "( 198 / 306 ) African Restaurants in St. George, Staten Island:0\n",
      "['Staten Island', 'St. George', 40.6449815710044, -74.07935312512797]\n",
      "( 199 / 306 ) African Restaurants in New Brighton, Staten Island:0\n",
      "['Staten Island', 'New Brighton', 40.64061455913511, -74.08701650516625]\n",
      "( 200 / 306 ) African Restaurants in Stapleton, Staten Island:0\n",
      "['Staten Island', 'Stapleton', 40.62692762538176, -74.07790192660066]\n",
      "( 201 / 306 ) African Restaurants in Rosebank, Staten Island:0\n",
      "['Staten Island', 'Rosebank', 40.61530494652761, -74.06980526716141]\n",
      "( 202 / 306 ) African Restaurants in West Brighton, Staten Island:0\n",
      "['Staten Island', 'West Brighton', 40.63187892654607, -74.1071817826561]\n",
      "( 203 / 306 ) African Restaurants in Grymes Hill, Staten Island:0\n",
      "['Staten Island', 'Grymes Hill', 40.624184791313006, -74.08724819983729]\n",
      "( 204 / 306 ) African Restaurants in Todt Hill, Staten Island:0\n",
      "['Staten Island', 'Todt Hill', 40.59706851814673, -74.1113288180088]\n",
      "( 205 / 306 ) African Restaurants in South Beach, Staten Island:0\n",
      "['Staten Island', 'South Beach', 40.58024741350956, -74.0795529253982]\n",
      "( 206 / 306 ) African Restaurants in Port Richmond, Staten Island:0\n",
      "['Staten Island', 'Port Richmond', 40.63366930554365, -74.12943426797008]\n",
      "( 207 / 306 ) African Restaurants in Mariner's Harbor, Staten Island:0\n",
      "['Staten Island', \"Mariner's Harbor\", 40.632546390481124, -74.15008537046981]\n",
      "( 208 / 306 ) African Restaurants in Port Ivory, Staten Island:0\n",
      "['Staten Island', 'Port Ivory', 40.63968297845542, -74.17464532993542]\n",
      "( 209 / 306 ) African Restaurants in Castleton Corners, Staten Island:0\n",
      "['Staten Island', 'Castleton Corners', 40.61333593766742, -74.11918058534842]\n",
      "( 210 / 306 ) African Restaurants in New Springville, Staten Island:0\n",
      "['Staten Island', 'New Springville', 40.594252379161695, -74.16496031329827]\n",
      "( 211 / 306 ) African Restaurants in Travis, Staten Island:0\n",
      "['Staten Island', 'Travis', 40.58631375103281, -74.19073717538116]\n",
      "( 212 / 306 ) African Restaurants in New Dorp, Staten Island:0\n",
      "['Staten Island', 'New Dorp', 40.57257231820632, -74.1164794360638]\n",
      "( 213 / 306 ) African Restaurants in Oakwood, Staten Island:0\n",
      "['Staten Island', 'Oakwood', 40.5584622432888, -74.12156593771896]\n",
      "( 214 / 306 ) African Restaurants in Great Kills, Staten Island:0\n",
      "['Staten Island', 'Great Kills', 40.549480228713605, -74.14932381490992]\n",
      "( 215 / 306 ) African Restaurants in Eltingville, Staten Island:0\n",
      "['Staten Island', 'Eltingville', 40.542230747450745, -74.1643308041936]\n",
      "( 216 / 306 ) African Restaurants in Annadale, Staten Island:0\n",
      "['Staten Island', 'Annadale', 40.53811417474507, -74.17854866165878]\n",
      "( 217 / 306 ) African Restaurants in Woodrow, Staten Island:0\n",
      "['Staten Island', 'Woodrow', 40.541967622888755, -74.20524582480326]\n",
      "( 218 / 306 ) African Restaurants in Tottenville, Staten Island:0\n",
      "['Staten Island', 'Tottenville', 40.50533376115642, -74.24656934235283]\n",
      "( 219 / 306 ) African Restaurants in Tompkinsville, Staten Island:0\n",
      "['Staten Island', 'Tompkinsville', 40.637316067110326, -74.08055351790115]\n",
      "( 220 / 306 ) African Restaurants in Silver Lake, Staten Island:0\n",
      "['Staten Island', 'Silver Lake', 40.61919310792676, -74.09629029235458]\n",
      "( 221 / 306 ) African Restaurants in Sunnyside, Staten Island:0\n",
      "['Staten Island', 'Sunnyside', 40.61276015756489, -74.0971255217853]\n",
      "( 222 / 306 ) African Restaurants in Ditmas Park, Brooklyn:0\n",
      "['Brooklyn', 'Ditmas Park', 40.643675183340974, -73.96101312466779]\n",
      "( 223 / 306 ) African Restaurants in Wingate, Brooklyn:0\n",
      "['Brooklyn', 'Wingate', 40.66094656188111, -73.93718680559314]\n",
      "( 224 / 306 ) African Restaurants in Rugby, Brooklyn:0\n",
      "['Brooklyn', 'Rugby', 40.655572313280764, -73.92688212616955]\n",
      "( 225 / 306 ) African Restaurants in Park Hill, Staten Island:0\n",
      "['Staten Island', 'Park Hill', 40.60919044434558, -74.08015734936296]\n",
      "( 226 / 306 ) African Restaurants in Westerleigh, Staten Island:0\n",
      "['Staten Island', 'Westerleigh', 40.62109047275409, -74.13304143951704]\n",
      "( 227 / 306 ) African Restaurants in Graniteville, Staten Island:0\n",
      "['Staten Island', 'Graniteville', 40.620171512231884, -74.15315246387762]\n",
      "( 228 / 306 ) African Restaurants in Arlington, Staten Island:0\n",
      "['Staten Island', 'Arlington', 40.63532509911492, -74.16510420241124]\n",
      "( 229 / 306 ) African Restaurants in Arrochar, Staten Island:0\n",
      "['Staten Island', 'Arrochar', 40.596312571276734, -74.06712363225574]\n",
      "( 230 / 306 ) African Restaurants in Grasmere, Staten Island:0\n",
      "['Staten Island', 'Grasmere', 40.59826835959991, -74.0766743627905]\n",
      "( 231 / 306 ) African Restaurants in Old Town, Staten Island:0\n",
      "['Staten Island', 'Old Town', 40.59632891379513, -74.08751118005578]\n",
      "( 232 / 306 ) African Restaurants in Dongan Hills, Staten Island:0\n",
      "['Staten Island', 'Dongan Hills', 40.588672948199275, -74.09639905312521]\n",
      "( 233 / 306 ) African Restaurants in Midland Beach, Staten Island:0\n",
      "['Staten Island', 'Midland Beach', 40.57352690574283, -74.09348266303591]\n",
      "( 234 / 306 ) African Restaurants in Grant City, Staten Island:0\n",
      "['Staten Island', 'Grant City', 40.57621558711788, -74.10585598545434]\n",
      "( 235 / 306 ) African Restaurants in New Dorp Beach, Staten Island:0\n",
      "['Staten Island', 'New Dorp Beach', 40.56425549307335, -74.10432707469124]\n",
      "( 236 / 306 ) African Restaurants in Bay Terrace, Staten Island:0\n",
      "['Staten Island', 'Bay Terrace', 40.55398800858462, -74.13916622175768]\n",
      "( 237 / 306 ) African Restaurants in Huguenot, Staten Island:0\n",
      "['Staten Island', 'Huguenot', 40.531911920489605, -74.19174105747814]\n",
      "( 238 / 306 ) African Restaurants in Pleasant Plains, Staten Island:0\n",
      "['Staten Island', 'Pleasant Plains', 40.524699376118136, -74.21983106616777]\n",
      "( 239 / 306 ) African Restaurants in Butler Manor, Staten Island:0\n",
      "['Staten Island', 'Butler Manor', 40.50608165346305, -74.22950350260027]\n",
      "( 240 / 306 ) African Restaurants in Charleston, Staten Island:0\n",
      "['Staten Island', 'Charleston', 40.53053148283314, -74.23215775896526]\n",
      "( 241 / 306 ) African Restaurants in Rossville, Staten Island:0\n",
      "['Staten Island', 'Rossville', 40.54940400650072, -74.21572851113952]\n",
      "( 242 / 306 ) African Restaurants in Arden Heights, Staten Island:0\n",
      "['Staten Island', 'Arden Heights', 40.54928582278321, -74.18588674583893]\n",
      "( 243 / 306 ) African Restaurants in Greenridge, Staten Island:0\n",
      "['Staten Island', 'Greenridge', 40.555295236173194, -74.17079414786092]\n",
      "( 244 / 306 ) African Restaurants in Heartland Village, Staten Island:0\n",
      "['Staten Island', 'Heartland Village', 40.58913894875281, -74.15902208156601]\n",
      "( 245 / 306 ) African Restaurants in Chelsea, Staten Island:0\n",
      "['Staten Island', 'Chelsea', 40.59472602746295, -74.1895604551969]\n",
      "( 246 / 306 ) African Restaurants in Bloomfield, Staten Island:0\n",
      "['Staten Island', 'Bloomfield', 40.60577868452358, -74.18725638381567]\n",
      "( 247 / 306 ) African Restaurants in Bulls Head, Staten Island:0\n",
      "['Staten Island', 'Bulls Head', 40.6095918004203, -74.15940948657122]\n",
      "( 248 / 306 ) African Restaurants in Carnegie Hill, Manhattan:0\n",
      "['Manhattan', 'Carnegie Hill', 40.7826825671257, -73.95325646837112]\n",
      "( 249 / 306 ) African Restaurants in Noho, Manhattan:0\n",
      "['Manhattan', 'Noho', 40.72325901885768, -73.98843368023597]\n",
      "( 250 / 306 ) African Restaurants in Civic Center, Manhattan:0\n",
      "['Manhattan', 'Civic Center', 40.71522892046282, -74.00541529873355]\n",
      "( 251 / 306 ) African Restaurants in Midtown South, Manhattan:0\n",
      "['Manhattan', 'Midtown South', 40.7485096643122, -73.98871313285247]\n",
      "( 252 / 306 ) African Restaurants in Richmond Town, Staten Island:0\n",
      "['Staten Island', 'Richmond Town', 40.56960594275505, -74.1340572986257]\n",
      "( 253 / 306 ) African Restaurants in Shore Acres, Staten Island:0\n",
      "['Staten Island', 'Shore Acres', 40.60971934079284, -74.06667766061771]\n",
      "( 254 / 306 ) African Restaurants in Clifton, Staten Island:0\n",
      "['Staten Island', 'Clifton', 40.61917845202843, -74.072642445484]\n",
      "( 255 / 306 ) African Restaurants in Concord, Staten Island:0\n",
      "['Staten Island', 'Concord', 40.6044731896879, -74.08402364740358]\n",
      "( 256 / 306 ) African Restaurants in Emerson Hill, Staten Island:0\n",
      "['Staten Island', 'Emerson Hill', 40.606794394801, -74.09776206972522]\n",
      "( 257 / 306 ) African Restaurants in Randall Manor, Staten Island:0\n",
      "['Staten Island', 'Randall Manor', 40.63563000681151, -74.09805062373887]\n",
      "( 258 / 306 ) African Restaurants in Howland Hook, Staten Island:0\n",
      "['Staten Island', 'Howland Hook', 40.63843283794795, -74.18622331749823]\n"
     ]
    },
    {
     "name": "stdout",
     "output_type": "stream",
     "text": [
      "( 259 / 306 ) African Restaurants in Elm Park, Staten Island:0\n",
      "['Staten Island', 'Elm Park', 40.630146741193826, -74.1418167896889]\n",
      "( 260 / 306 ) African Restaurants in Remsen Village, Brooklyn:0\n",
      "['Brooklyn', 'Remsen Village', 40.652117451793494, -73.91665331978048]\n",
      "( 261 / 306 ) African Restaurants in New Lots, Brooklyn:0\n",
      "['Brooklyn', 'New Lots', 40.6627442796966, -73.88511776379292]\n",
      "( 262 / 306 ) African Restaurants in Paerdegat Basin, Brooklyn:0\n",
      "['Brooklyn', 'Paerdegat Basin', 40.63131755039667, -73.90233474295836]\n",
      "( 263 / 306 ) African Restaurants in Mill Basin, Brooklyn:0\n",
      "['Brooklyn', 'Mill Basin', 40.61597423962336, -73.91515391550404]\n",
      "( 264 / 306 ) African Restaurants in Jamaica Hills, Queens:0\n",
      "['Queens', 'Jamaica Hills', 40.71145964370482, -73.79646462081593]\n",
      "( 265 / 306 ) African Restaurants in Utopia, Queens:0\n",
      "['Queens', 'Utopia', 40.73350025429757, -73.79671678028349]\n",
      "( 266 / 306 ) African Restaurants in Pomonok, Queens:0\n",
      "['Queens', 'Pomonok', 40.73493618075478, -73.80486120040537]\n",
      "( 267 / 306 ) African Restaurants in Astoria Heights, Queens:0\n",
      "['Queens', 'Astoria Heights', 40.7703173929982, -73.89467996270574]\n",
      "( 268 / 306 ) African Restaurants in Claremont Village, Bronx:0\n",
      "['Bronx', 'Claremont Village', 40.83142834161548, -73.90119903387667]\n",
      "( 269 / 306 ) African Restaurants in Concourse Village, Bronx:0\n",
      "['Bronx', 'Concourse Village', 40.824780490842905, -73.91584652759009]\n",
      "( 270 / 306 ) African Restaurants in Mount Eden, Bronx:0\n",
      "['Bronx', 'Mount Eden', 40.84382617671654, -73.91655551964419]\n",
      "( 271 / 306 ) African Restaurants in Mount Hope, Bronx:0\n",
      "['Bronx', 'Mount Hope', 40.84884160724665, -73.90829930881988]\n",
      "( 272 / 306 ) African Restaurants in Sutton Place, Manhattan:0\n",
      "['Manhattan', 'Sutton Place', 40.76028033131374, -73.96355614094303]\n",
      "( 273 / 306 ) African Restaurants in Hunters Point, Queens:0\n",
      "['Queens', 'Hunters Point', 40.743414090073536, -73.95386782130745]\n",
      "( 274 / 306 ) African Restaurants in Turtle Bay, Manhattan:0\n",
      "['Manhattan', 'Turtle Bay', 40.75204236950722, -73.96770824581834]\n",
      "( 275 / 306 ) African Restaurants in Tudor City, Manhattan:0\n",
      "['Manhattan', 'Tudor City', 40.746917410740195, -73.97121928722265]\n",
      "( 276 / 306 ) African Restaurants in Stuyvesant Town, Manhattan:0\n",
      "['Manhattan', 'Stuyvesant Town', 40.73099955477061, -73.97405170469203]\n",
      "( 277 / 306 ) African Restaurants in Flatiron, Manhattan:0\n",
      "['Manhattan', 'Flatiron', 40.739673047638426, -73.9909471052826]\n",
      "( 278 / 306 ) African Restaurants in Sunnyside Gardens, Queens:0\n",
      "['Queens', 'Sunnyside Gardens', 40.74565180608076, -73.91819286431682]\n",
      "( 279 / 306 ) African Restaurants in Blissville, Queens:0\n",
      "['Queens', 'Blissville', 40.73725071694497, -73.93244235260178]\n",
      "( 280 / 306 ) African Restaurants in Fulton Ferry, Brooklyn:0\n",
      "['Brooklyn', 'Fulton Ferry', 40.70328109093014, -73.99550751888415]\n",
      "( 281 / 306 ) African Restaurants in Vinegar Hill, Brooklyn:0\n",
      "['Brooklyn', 'Vinegar Hill', 40.70332149882874, -73.98111603592393]\n",
      "( 282 / 306 ) African Restaurants in Weeksville, Brooklyn:0\n",
      "['Brooklyn', 'Weeksville', 40.67503986503237, -73.93053108817338]\n",
      "( 283 / 306 ) African Restaurants in Broadway Junction, Brooklyn:0\n",
      "['Brooklyn', 'Broadway Junction', 40.67786104769531, -73.90331684852599]\n",
      "( 284 / 306 ) African Restaurants in Dumbo, Brooklyn:0\n",
      "['Brooklyn', 'Dumbo', 40.70317632822692, -73.9887528074504]\n",
      "( 285 / 306 ) African Restaurants in Manor Heights, Staten Island:0\n",
      "['Staten Island', 'Manor Heights', 40.60180957631444, -74.12059399718001]\n",
      "( 286 / 306 ) African Restaurants in Willowbrook, Staten Island:0\n",
      "['Staten Island', 'Willowbrook', 40.60370692627371, -74.13208447484298]\n",
      "( 287 / 306 ) African Restaurants in Sandy Ground, Staten Island:0\n",
      "['Staten Island', 'Sandy Ground', 40.541139922091766, -74.21776636068567]\n",
      "( 288 / 306 ) African Restaurants in Egbertville, Staten Island:0\n",
      "['Staten Island', 'Egbertville', 40.579118742961214, -74.12727240604946]\n",
      "( 289 / 306 ) African Restaurants in Roxbury, Queens:0\n",
      "['Queens', 'Roxbury', 40.56737588957032, -73.89213760232822]\n",
      "( 290 / 306 ) African Restaurants in Homecrest, Brooklyn:0\n",
      "['Brooklyn', 'Homecrest', 40.598525095137255, -73.95918459428702]\n",
      "( 291 / 306 ) African Restaurants in Middle Village, Queens:0\n",
      "['Queens', 'Middle Village', 40.716414511158185, -73.88114319200604]\n",
      "( 292 / 306 ) African Restaurants in Prince's Bay, Staten Island:0\n",
      "['Staten Island', \"Prince's Bay\", 40.52626406734812, -74.20152556457658]\n",
      "( 293 / 306 ) African Restaurants in Lighthouse Hill, Staten Island:0\n",
      "['Staten Island', 'Lighthouse Hill', 40.57650629379489, -74.13792663771568]\n",
      "( 294 / 306 ) African Restaurants in Richmond Valley, Staten Island:0\n",
      "['Staten Island', 'Richmond Valley', 40.51954145748909, -74.22957080626941]\n",
      "( 295 / 306 ) African Restaurants in Malba, Queens:0\n",
      "['Queens', 'Malba', 40.79060155670148, -73.82667757138641]\n",
      "( 296 / 306 ) African Restaurants in Highland Park, Brooklyn:0\n",
      "['Brooklyn', 'Highland Park', 40.6819989345173, -73.890345709872]\n",
      "( 297 / 306 ) African Restaurants in Madison, Brooklyn:0\n",
      "['Brooklyn', 'Madison', 40.60937770113766, -73.94841515328893]\n",
      "( 298 / 306 ) African Restaurants in Bronxdale, Bronx:0\n",
      "['Bronx', 'Bronxdale', 40.85272297633017, -73.86172577555115]\n",
      "( 299 / 306 ) African Restaurants in Allerton, Bronx:0\n",
      "['Bronx', 'Allerton', 40.86578787802982, -73.85931863221647]\n",
      "( 300 / 306 ) African Restaurants in Kingsbridge Heights, Bronx:0\n",
      "['Bronx', 'Kingsbridge Heights', 40.8703923914147, -73.90152264513144]\n",
      "( 301 / 306 ) African Restaurants in Erasmus, Brooklyn:0\n",
      "['Brooklyn', 'Erasmus', 40.64692606658579, -73.94817709920184]\n",
      "( 302 / 306 ) African Restaurants in Hudson Yards, Manhattan:0\n",
      "['Manhattan', 'Hudson Yards', 40.75665808227519, -74.00011136202637]\n",
      "( 303 / 306 ) African Restaurants in Hammels, Queens:0\n",
      "['Queens', 'Hammels', 40.58733774018741, -73.80553002968718]\n",
      "( 304 / 306 ) African Restaurants in Bayswater, Queens:0\n",
      "['Queens', 'Bayswater', 40.611321691283834, -73.76596781445627]\n",
      "( 305 / 306 ) African Restaurants in Queensbridge, Queens:0\n",
      "['Queens', 'Queensbridge', 40.756091297094706, -73.94563070334091]\n",
      "( 306 / 306 ) African Restaurants in Fox Hills, Staten Island:0\n",
      "['Staten Island', 'Fox Hills', 40.61731079252983, -74.08173992211962]\n"
     ]
    }
   ],
   "source": [
    "# queens has most neighborhoods\n",
    "# prepare neighborhood list that contains african restaurants\n",
    "column_names=['Borough', 'Neighborhood', 'ID','Name']\n",
    "african_rest_ny=pd.DataFrame(columns=column_names)\n",
    "count=1\n",
    "for row in ny_data.values.tolist():\n",
    "    Borough, Neighborhood, Latitude, Longitude=row\n",
    "    venues = get_venues(Latitude,Longitude)\n",
    "    african_restaurants=venues[venues['Category']=='African Restaurant']   \n",
    "    print('(',count,'/',len(ny_data),')','African Restaurants in '+Neighborhood+', '+Borough+':'+str(len(african_restaurants)))\n",
    "    print(row)\n",
    "    for resturant_detail in african_restaurants.values.tolist():\n",
    "        id, name , category=resturant_detail\n",
    "        african_rest_ny = african_rest_ny.append({'Borough': Borough,\n",
    "                                                'Neighborhood': Neighborhood, \n",
    "                                                'ID': id,\n",
    "                                                'Name' : name\n",
    "                                               }, ignore_index=True)\n",
    "    count+=1"
   ]
  },
  {
   "cell_type": "code",
   "execution_count": 11,
   "metadata": {},
   "outputs": [],
   "source": [
    "african_rest_ny.to_csv('african_rest_ny_tocsv1.csv')"
   ]
  },
  {
   "cell_type": "code",
   "execution_count": 12,
   "metadata": {},
   "outputs": [
    {
     "data": {
      "text/html": [
       "<div>\n",
       "<style scoped>\n",
       "    .dataframe tbody tr th:only-of-type {\n",
       "        vertical-align: middle;\n",
       "    }\n",
       "\n",
       "    .dataframe tbody tr th {\n",
       "        vertical-align: top;\n",
       "    }\n",
       "\n",
       "    .dataframe thead th {\n",
       "        text-align: right;\n",
       "    }\n",
       "</style>\n",
       "<table border=\"1\" class=\"dataframe\">\n",
       "  <thead>\n",
       "    <tr style=\"text-align: right;\">\n",
       "      <th></th>\n",
       "      <th>Borough</th>\n",
       "      <th>Neighborhood</th>\n",
       "      <th>ID</th>\n",
       "      <th>Name</th>\n",
       "    </tr>\n",
       "  </thead>\n",
       "  <tbody>\n",
       "    <tr>\n",
       "      <th>0</th>\n",
       "      <td>Bronx</td>\n",
       "      <td>University Heights</td>\n",
       "      <td>4c2f8b1b7cc0c9b6a1eaeb9a</td>\n",
       "      <td>Accra Resturant</td>\n",
       "    </tr>\n",
       "    <tr>\n",
       "      <th>1</th>\n",
       "      <td>Manhattan</td>\n",
       "      <td>Central Harlem</td>\n",
       "      <td>53e01975498e78c0915599bf</td>\n",
       "      <td>Ponty Bistro Harlem</td>\n",
       "    </tr>\n",
       "    <tr>\n",
       "      <th>2</th>\n",
       "      <td>Manhattan</td>\n",
       "      <td>Central Harlem</td>\n",
       "      <td>4c2fdced452620a120551e0f</td>\n",
       "      <td>Keur Sokhna</td>\n",
       "    </tr>\n",
       "    <tr>\n",
       "      <th>3</th>\n",
       "      <td>Manhattan</td>\n",
       "      <td>Central Harlem</td>\n",
       "      <td>4a9ea132f964a520ad3a20e3</td>\n",
       "      <td>Africa Kine Restaurant</td>\n",
       "    </tr>\n",
       "  </tbody>\n",
       "</table>\n",
       "</div>"
      ],
      "text/plain": [
       "     Borough        Neighborhood                        ID  \\\n",
       "0      Bronx  University Heights  4c2f8b1b7cc0c9b6a1eaeb9a   \n",
       "1  Manhattan      Central Harlem  53e01975498e78c0915599bf   \n",
       "2  Manhattan      Central Harlem  4c2fdced452620a120551e0f   \n",
       "3  Manhattan      Central Harlem  4a9ea132f964a520ad3a20e3   \n",
       "\n",
       "                     Name  \n",
       "0         Accra Resturant  \n",
       "1     Ponty Bistro Harlem  \n",
       "2             Keur Sokhna  \n",
       "3  Africa Kine Restaurant  "
      ]
     },
     "execution_count": 12,
     "metadata": {},
     "output_type": "execute_result"
    }
   ],
   "source": [
    "african_ny = pd.read_csv('african_rest_ny_tocsv1.csv')\n",
    "african_rest_ny.head()"
   ]
  },
  {
   "cell_type": "code",
   "execution_count": 13,
   "metadata": {},
   "outputs": [
    {
     "data": {
      "text/plain": [
       "(4, 4)"
      ]
     },
     "execution_count": 13,
     "metadata": {},
     "output_type": "execute_result"
    }
   ],
   "source": [
    "african_rest_ny.shape"
   ]
  },
  {
   "cell_type": "markdown",
   "metadata": {},
   "source": [
    "This shows that we 4 African Restaurants across New York City"
   ]
  },
  {
   "cell_type": "markdown",
   "metadata": {},
   "source": [
    "#### The graph below shows which Borough has the highest number of African Restaurants across New York"
   ]
  },
  {
   "cell_type": "code",
   "execution_count": 14,
   "metadata": {},
   "outputs": [
    {
     "data": {
      "image/png": "[encoded data removed]",
      "text/plain": [
       "<Figure size 720x360 with 1 Axes>"
      ]
     },
     "metadata": {
      "needs_background": "light"
     },
     "output_type": "display_data"
    }
   ],
   "source": [
    "african_rest_ny.groupby('Borough')['ID'].count().plot.bar(figsize=(10,5), color=clr)\n",
    "plt.title('African Restaurants per Borough: NYC', fontsize = 20)\n",
    "plt.xlabel('Borough', fontsize = 15)\n",
    "plt.ylabel('No. of African Restaurants', fontsize=15)\n",
    "plt.xticks(rotation = 'horizontal')\n",
    "plt.legend()\n",
    "plt.show()"
   ]
  },
  {
   "cell_type": "markdown",
   "metadata": {},
   "source": [
    "The above graphic shows that Manhattan has the highest numbers of African restaurants across New York City. Obviously African Americans are more there."
   ]
  },
  {
   "cell_type": "markdown",
   "metadata": {},
   "source": [
    "#### African Restaurants by neigborhoods"
   ]
  },
  {
   "cell_type": "code",
   "execution_count": 15,
   "metadata": {},
   "outputs": [
    {
     "data": {
      "image/png": "[encoded data removed]",
      "text/plain": [
       "<Figure size 720x360 with 1 Axes>"
      ]
     },
     "metadata": {
      "needs_background": "light"
     },
     "output_type": "display_data"
    }
   ],
   "source": [
    "NOofNeigh = 6 # top 6 numbers \n",
    "african_rest_ny.groupby('Neighborhood')['ID'].count().nlargest(NOofNeigh).plot.bar(figsize=(10,5), color=clr)\n",
    "plt.title('African Restaurants per Neighborhood: NYC', fontsize = 20)\n",
    "plt.xlabel('Neighborhood', fontsize = 15)\n",
    "plt.ylabel('No. of African Restaurants', fontsize=15)\n",
    "plt.xticks(rotation = 'horizontal')\n",
    "plt.legend()\n",
    "plt.show()"
   ]
  },
  {
   "cell_type": "markdown",
   "metadata": {},
   "source": [
    "Central Harlem in Manhattan has more concentrations of African Restaurants"
   ]
  },
  {
   "cell_type": "code",
   "execution_count": 16,
   "metadata": {},
   "outputs": [
    {
     "data": {
      "text/html": [
       "<div>\n",
       "<style scoped>\n",
       "    .dataframe tbody tr th:only-of-type {\n",
       "        vertical-align: middle;\n",
       "    }\n",
       "\n",
       "    .dataframe tbody tr th {\n",
       "        vertical-align: top;\n",
       "    }\n",
       "\n",
       "    .dataframe thead th {\n",
       "        text-align: right;\n",
       "    }\n",
       "</style>\n",
       "<table border=\"1\" class=\"dataframe\">\n",
       "  <thead>\n",
       "    <tr style=\"text-align: right;\">\n",
       "      <th></th>\n",
       "      <th>Borough</th>\n",
       "      <th>Neighborhood</th>\n",
       "      <th>ID</th>\n",
       "      <th>Name</th>\n",
       "    </tr>\n",
       "  </thead>\n",
       "  <tbody>\n",
       "    <tr>\n",
       "      <th>1</th>\n",
       "      <td>Manhattan</td>\n",
       "      <td>Central Harlem</td>\n",
       "      <td>53e01975498e78c0915599bf</td>\n",
       "      <td>Ponty Bistro Harlem</td>\n",
       "    </tr>\n",
       "    <tr>\n",
       "      <th>2</th>\n",
       "      <td>Manhattan</td>\n",
       "      <td>Central Harlem</td>\n",
       "      <td>4c2fdced452620a120551e0f</td>\n",
       "      <td>Keur Sokhna</td>\n",
       "    </tr>\n",
       "    <tr>\n",
       "      <th>3</th>\n",
       "      <td>Manhattan</td>\n",
       "      <td>Central Harlem</td>\n",
       "      <td>4a9ea132f964a520ad3a20e3</td>\n",
       "      <td>Africa Kine Restaurant</td>\n",
       "    </tr>\n",
       "  </tbody>\n",
       "</table>\n",
       "</div>"
      ],
      "text/plain": [
       "     Borough    Neighborhood                        ID                    Name\n",
       "1  Manhattan  Central Harlem  53e01975498e78c0915599bf     Ponty Bistro Harlem\n",
       "2  Manhattan  Central Harlem  4c2fdced452620a120551e0f             Keur Sokhna\n",
       "3  Manhattan  Central Harlem  4a9ea132f964a520ad3a20e3  Africa Kine Restaurant"
      ]
     },
     "execution_count": 16,
     "metadata": {},
     "output_type": "execute_result"
    }
   ],
   "source": [
    "african_rest_ny[african_rest_ny['Neighborhood']=='Central Harlem']"
   ]
  },
  {
   "cell_type": "markdown",
   "metadata": {},
   "source": [
    "Central Harlem with a total of 3 African restaurants "
   ]
  },
  {
   "cell_type": "markdown",
   "metadata": {},
   "source": [
    "#### Now let's rank the restaurants to explore more details"
   ]
  },
  {
   "cell_type": "code",
   "execution_count": 17,
   "metadata": {},
   "outputs": [
    {
     "name": "stdout",
     "output_type": "stream",
     "text": [
      "{'meta': {'code': 200, 'requestId': '603efca026b85a1e73e416fd'}, 'response': {'venue': {'id': '4c2f8b1b7cc0c9b6a1eaeb9a', 'name': 'Accra Resturant', 'contact': {}, 'location': {'address': '2021-2039 Davidson Ave', 'lat': 40.85387109221504, 'lng': -73.90842103412992, 'labeledLatLngs': [{'label': 'display', 'lat': 40.85387109221504, 'lng': -73.90842103412992}], 'postalCode': '10453', 'cc': 'US', 'city': 'Bronx', 'state': 'NY', 'country': 'United States', 'formattedAddress': ['2021-2039 Davidson Ave', 'Bronx, NY 10453', 'United States']}, 'canonicalUrl': 'https://foursquare.com/v/accra-resturant/4c2f8b1b7cc0c9b6a1eaeb9a', 'categories': [{'id': '4bf58dd8d48988d1c8941735', 'name': 'African Restaurant', 'pluralName': 'African Restaurants', 'shortName': 'African', 'icon': {'prefix': 'https://ss3.4sqi.net/img/categories_v2/food/african_', 'suffix': '.png'}, 'primary': True}], 'verified': False, 'stats': {'tipCount': 3}, 'price': {'tier': 2, 'message': 'Moderate', 'currency': '$'}, 'likes': {'count': 9, 'groups': [{'type': 'others', 'count': 9, 'items': [{'firstName': 'D@ge', 'lastName': 'A', 'countryCode': 'US'}, {'firstName': 'Greg', 'lastName': 'R', 'countryCode': 'US'}, {'firstName': 'RcLA', 'countryCode': 'US'}]}], 'summary': '9 Likes'}, 'dislike': False, 'ok': False, 'rating': 6.8, 'ratingColor': 'FFC800', 'ratingSignals': 15, 'allowMenuUrlEdit': True, 'beenHere': {'count': 0, 'unconfirmedCount': 0, 'marked': False, 'lastCheckinExpiredAt': 0}, 'specials': {'count': 0, 'items': []}, 'photos': {'count': 9, 'groups': [{'type': 'venue', 'name': 'Venue photos', 'count': 9, 'items': [{'id': '591b69f75315930fd7594e06', 'createdAt': 1494968823, 'source': {'name': 'Swarm for Android', 'url': 'https://www.swarmapp.com'}, 'prefix': 'https://fastly.4sqi.net/img/general/', 'suffix': '/136027423_V_kAi1Atijsv6xHqPBrQtrix03zkokatp1W5rFa36_c.jpg', 'width': 969, 'height': 1723, 'visibility': 'public'}]}]}, 'reasons': {'count': 0, 'items': []}, 'hereNow': {'count': 0, 'summary': 'Nobody here', 'groups': []}, 'createdAt': 1278184219, 'tips': {'count': 3, 'groups': [{'type': 'others', 'name': 'All tips', 'count': 3, 'items': [{'id': '522c89fc11d2be3722c7578e', 'createdAt': 1378650620, 'text': \"Whole tilapia.  Finger lickin' good.\", 'type': 'user', 'canonicalUrl': 'https://foursquare.com/item/522c89fc11d2be3722c7578e', 'lang': 'en', 'likes': {'count': 1, 'groups': [{'type': 'others', 'count': 1, 'items': [{'firstName': 'Catherine', 'lastName': 'Q', 'countryCode': 'US'}]}], 'summary': '1 like'}, 'logView': True, 'agreeCount': 1, 'disagreeCount': 0, 'todo': {'count': 1}, 'user': {'firstName': 'Isi', 'lastName': 'U', 'countryCode': 'US'}}]}]}, 'shortUrl': 'http://4sq.com/b46fRJ', 'timeZone': 'America/New_York', 'listed': {'count': 7, 'groups': [{'type': 'others', 'name': 'Lists from other people', 'count': 7, 'items': [{'id': '54ee6e7f498e44fe75c2f183', 'name': 'restaurants nyc', 'description': '', 'type': 'others', 'user': {'firstName': 'Erol', 'lastName': 'Y', 'countryCode': 'US'}, 'editable': False, 'public': True, 'collaborative': False, 'url': '/user/60253929/list/restaurants-nyc', 'canonicalUrl': 'https://foursquare.com/user/60253929/list/restaurants-nyc', 'createdAt': 1424911999, 'updatedAt': 1503455474, 'photo': {'id': '520fd21911d2ffc85e8837a3', 'createdAt': 1376768537, 'prefix': 'https://fastly.4sqi.net/img/general/', 'suffix': '/5457121_EFlff8CmlUoHIqQhD2hz7TBRShQIm9wL-eGcU8t1wq4.jpg', 'width': 960, 'height': 720, 'visibility': 'public'}, 'followers': {'count': 5}, 'listItems': {'count': 348, 'items': [{'id': 'v4c2f8b1b7cc0c9b6a1eaeb9a', 'createdAt': 1447282334}]}}, {'id': '5006d16ae4b04b9eada79402', 'name': 'Bronx African', 'description': '', 'type': 'others', 'user': {'firstName': 'Jeremy', 'lastName': 'F', 'countryCode': 'US'}, 'editable': False, 'public': True, 'collaborative': False, 'url': '/jeremyhfisher/list/bronx-african', 'canonicalUrl': 'https://foursquare.com/jeremyhfisher/list/bronx-african', 'createdAt': 1342624106, 'updatedAt': 1342624377, 'followers': {'count': 0}, 'listItems': {'count': 3, 'items': [{'id': 'v4c2f8b1b7cc0c9b6a1eaeb9a', 'createdAt': 1342624377}]}}, {'id': '51322826e4b0eacbc4292fe0', 'name': 'Maybe', 'description': '', 'type': 'others', 'user': {'firstName': 'L', 'lastName': 'E', 'countryCode': 'US'}, 'editable': False, 'public': True, 'collaborative': False, 'url': '/user/434711/list/maybe', 'canonicalUrl': 'https://foursquare.com/user/434711/list/maybe', 'createdAt': 1362241574, 'updatedAt': 1606933240, 'followers': {'count': 0}, 'listItems': {'count': 90, 'items': []}}, {'id': '5355e38e498e2700ef43a5c2', 'name': 'The City', 'description': '', 'type': 'others', 'user': {'firstName': 'Wrock', 'countryCode': 'US'}, 'editable': False, 'public': True, 'collaborative': False, 'url': '/user/257061/list/the-city', 'canonicalUrl': 'https://foursquare.com/user/257061/list/the-city', 'createdAt': 1398137742, 'updatedAt': 1596038812, 'followers': {'count': 0}, 'listItems': {'count': 67, 'items': [{'id': 'v4c2f8b1b7cc0c9b6a1eaeb9a', 'createdAt': 1559274025}]}}]}]}, 'seasonalHours': [], 'pageUpdates': {'count': 0, 'items': []}, 'inbox': {'count': 0, 'items': []}, 'attributes': {'groups': [{'type': 'price', 'name': 'Price', 'summary': '$$', 'count': 1, 'items': [{'displayName': 'Price', 'displayValue': '$$', 'priceTier': 2}]}, {'type': 'reservations', 'name': 'Reservations', 'count': 3, 'items': [{'displayName': 'Reservations', 'displayValue': 'No'}]}, {'type': 'serves', 'name': 'Menus', 'summary': 'Happy Hour', 'count': 8, 'items': [{'displayName': 'Happy Hour', 'displayValue': 'Happy Hour'}]}]}, 'bestPhoto': {'id': '591b69f75315930fd7594e06', 'createdAt': 1494968823, 'source': {'name': 'Swarm for Android', 'url': 'https://www.swarmapp.com'}, 'prefix': 'https://fastly.4sqi.net/img/general/', 'suffix': '/136027423_V_kAi1Atijsv6xHqPBrQtrix03zkokatp1W5rFa36_c.jpg', 'width': 969, 'height': 1723, 'visibility': 'public'}, 'colors': {'highlightColor': {'photoId': '591b69f75315930fd7594e06', 'value': -15198192}, 'highlightTextColor': {'photoId': '591b69f75315930fd7594e06', 'value': -1}, 'algoVersion': 3}}}}\n",
      "                         ID             Name  Likes  Rating  Tips\n",
      "0  4c2f8b1b7cc0c9b6a1eaeb9a  Accra Resturant      9     6.8     3\n",
      "( 1 / 4 ) processed\n",
      "{'meta': {'code': 200, 'requestId': '603efca08ce4613e8e4d013e'}, 'response': {'venue': {'id': '53e01975498e78c0915599bf', 'name': 'Ponty Bistro Harlem', 'contact': {'phone': '2122346474', 'formattedPhone': '(212) 234-6474', 'twitter': 'pontyharlem'}, 'location': {'address': '144 W 139th St', 'crossStreet': 'Adam Clayton Powell', 'lat': 40.81788580529937, 'lng': -73.9415220349791, 'labeledLatLngs': [{'label': 'display', 'lat': 40.81788580529937, 'lng': -73.9415220349791}, {'label': 'entrance', 'lat': 40.817615, 'lng': -73.941515}], 'postalCode': '10030', 'cc': 'US', 'city': 'New York', 'state': 'NY', 'country': 'United States', 'formattedAddress': ['144 W 139th St (Adam Clayton Powell)', 'New York, NY 10030', 'United States']}, 'canonicalUrl': 'https://foursquare.com/v/ponty-bistro-harlem/53e01975498e78c0915599bf', 'categories': [{'id': '4bf58dd8d48988d1c8941735', 'name': 'African Restaurant', 'pluralName': 'African Restaurants', 'shortName': 'African', 'icon': {'prefix': 'https://ss3.4sqi.net/img/categories_v2/food/african_', 'suffix': '.png'}, 'primary': True}, {'id': '4bf58dd8d48988d10c941735', 'name': 'French Restaurant', 'pluralName': 'French Restaurants', 'shortName': 'French', 'icon': {'prefix': 'https://ss3.4sqi.net/img/categories_v2/food/french_', 'suffix': '.png'}}, {'id': '52e81612bcbc57f1066b79f1', 'name': 'Bistro', 'pluralName': 'Bistros', 'shortName': 'Bistro', 'icon': {'prefix': 'https://ss3.4sqi.net/img/categories_v2/food/default_', 'suffix': '.png'}}], 'verified': True, 'stats': {'tipCount': 31}, 'url': 'http://www.pontybistroharlem.com', 'price': {'tier': 4, 'message': 'Very Expensive', 'currency': '$'}, 'hasMenu': True, 'likes': {'count': 107, 'groups': [{'type': 'others', 'count': 107, 'items': []}], 'summary': '107 Likes'}, 'dislike': False, 'ok': False, 'rating': 8.6, 'ratingColor': '73CF42', 'ratingSignals': 146, 'delivery': {'id': '298025', 'url': 'https://www.seamless.com/menu/ponty-bistro-harlem-2375-adam-clayton-powell-jr-blvd-new-york/298025?affiliate=1131&utm_source=foursquare-affiliate-network&utm_medium=affiliate&utm_campaign=1131&utm_content=298025', 'provider': {'name': 'seamless', 'icon': {'prefix': 'https://fastly.4sqi.net/img/general/cap/', 'sizes': [40, 50], 'name': '/delivery_provider_seamless_20180129.png'}}}, 'menu': {'type': 'Menu', 'label': 'Menu', 'anchor': 'View Menu', 'url': 'https://foursquare.com/v/ponty-bistro-harlem/53e01975498e78c0915599bf/menu', 'mobileUrl': 'https://foursquare.com/v/53e01975498e78c0915599bf/device_menu'}, 'allowMenuUrlEdit': True, 'beenHere': {'count': 0, 'unconfirmedCount': 0, 'marked': False, 'lastCheckinExpiredAt': 0}, 'specials': {'count': 0, 'items': []}, 'photos': {'count': 64, 'groups': [{'type': 'venue', 'name': 'Venue photos', 'count': 64, 'items': [{'id': '549075c611d251a92ca1fe0d', 'createdAt': 1418753478, 'source': {'name': 'Foursquare Web', 'url': 'https://foursquare.com'}, 'prefix': 'https://fastly.4sqi.net/img/general/', 'suffix': '/106220302_ZwnTq59xwQnWdMr2u15iRgNy5AQz2JQZjVNVpQn-Qc4.jpg', 'width': 300, 'height': 300, 'visibility': 'public'}]}]}, 'venuePage': {'id': '106220302'}, 'reasons': {'count': 1, 'items': [{'summary': 'Lots of people like this place', 'type': 'general', 'reasonName': 'rawLikesReason'}]}, 'description': 'Ponty Bistro is the place to go for fantastic gourmet meals at affordable prices.', 'storeId': '', 'page': {'user': {'firstName': 'Ponty Bistro Harlem', 'countryCode': 'US', 'type': 'venuePage', 'venue': {'id': '53e01975498e78c0915599bf'}, 'tips': {'count': 0}, 'lists': {'groups': [{'type': 'created', 'count': 2, 'items': []}]}, 'bio': ''}}, 'hereNow': {'count': 0, 'summary': 'Nobody here', 'groups': []}, 'createdAt': 1407195509, 'tips': {'count': 31, 'groups': [{'type': 'others', 'name': 'All tips', 'count': 31, 'items': [{'id': '544d6b28498e5e451cc72c4f', 'createdAt': 1414359848, 'text': \"The service was slighty slow but Lobster BLT, Maple Crusted French Toast, Truffle Macaroni & Cheese and Fresh Seasonal Fruit coupled with the ambiance made up for it. I'll definitely be back.\", 'type': 'user', 'canonicalUrl': 'https://foursquare.com/item/544d6b28498e5e451cc72c4f', 'photo': {'id': '544d6b29498ee6f0b309d877', 'createdAt': 1414359849, 'source': {'name': 'Foursquare for Android', 'url': 'https://foursquare.com/download/#/android'}, 'prefix': 'https://fastly.4sqi.net/img/general/', 'suffix': '/1225329_qG7P9FJePObgCEMd903Y0LRHE3n3vL80Yjki_ddGdWQ.jpg', 'width': 960, 'height': 960, 'visibility': 'public'}, 'photourl': 'https://fastly.4sqi.net/img/general/original/1225329_qG7P9FJePObgCEMd903Y0LRHE3n3vL80Yjki_ddGdWQ.jpg', 'lang': 'en', 'likes': {'count': 4, 'groups': [{'type': 'others', 'count': 4, 'items': [{'firstName': 'Will', 'lastName': 'A', 'countryCode': 'US'}, {'firstName': 'Jaky', 'lastName': 'J', 'countryCode': 'US'}, {'firstName': 'Stacy', 'lastName': 'M', 'countryCode': 'US'}]}], 'summary': '4 likes'}, 'logView': True, 'agreeCount': 7, 'disagreeCount': 0, 'todo': {'count': 2}, 'user': {'firstName': 'Terance', 'lastName': 'T', 'countryCode': 'US'}, 'authorInteractionType': 'liked'}]}]}, 'shortUrl': 'http://4sq.com/1pUBzOe', 'timeZone': 'America/New_York', 'listed': {'count': 111, 'groups': [{'type': 'others', 'name': 'Lists from other people', 'count': 111, 'items': [{'id': '5a834e62f8cbd459a28eb9b0', 'name': '200 Black-Owned Restaurants in NYC', 'description': 'The Foursquare team compiled this list to spotlight some of the best Black-owned restaurants in NYC. Do you want your business to be featured here? Message us at support@foursquare.com.', 'type': 'others', 'user': {'firstName': 'Foursquare City Guide', 'countryCode': 'US', 'type': 'page'}, 'editable': False, 'public': True, 'collaborative': False, 'url': '/foursquare/list/200-blackowned-restaurants-in-nyc', 'canonicalUrl': 'https://foursquare.com/foursquare/list/200-blackowned-restaurants-in-nyc', 'createdAt': 1518554722, 'updatedAt': 1591990806, 'photo': {'id': '574ef8b4498e2399caccb9d8', 'createdAt': 1464793268, 'prefix': 'https://fastly.4sqi.net/img/general/', 'suffix': '/96505883__sOMtZbVEtDJVf51-4eR_goaHrVuKM1kaw4fzrUCc8c.jpg', 'width': 2123, 'height': 1413, 'visibility': 'public'}, 'logView': True, 'guideType': 'bestOf', 'guide': True, 'followers': {'count': 58}, 'listItems': {'count': 261, 'items': [{'id': 't55bc3e59498eeb963520c43e', 'createdAt': 1518554805, 'photo': {'id': '590fca1d9b04736a45d84716', 'createdAt': 1494207005, 'prefix': 'https://fastly.4sqi.net/img/general/', 'suffix': '/2551536_pxm-v_oLIfdVzo-3c6__7a0MUKjKA3ciuWToStjVsnw.jpg', 'width': 1440, 'height': 1920, 'visibility': 'public'}}, {'id': 'v53e01975498e78c0915599bf', 'createdAt': 1591989865}]}}, {'id': '5a9430e50868a20ad35700db', 'name': 'Celebrating Black Chefs + Restaurateurs', 'description': \"These 47 restaurants are just a taste. Tell us which places you'd like to see on this list by tweeting @FoursquareGuide!\", 'type': 'others', 'user': {'firstName': 'Foursquare City Guide', 'countryCode': 'US', 'type': 'page'}, 'editable': False, 'public': True, 'collaborative': False, 'url': '/foursquare/list/celebrating-black-chefs--restaurateurs', 'canonicalUrl': 'https://foursquare.com/foursquare/list/celebrating-black-chefs--restaurateurs', 'createdAt': 1519661285, 'updatedAt': 1602169193, 'photo': {'id': '51b20fafabd8d57802834658', 'createdAt': 1370623919, 'prefix': 'https://fastly.4sqi.net/img/general/', 'suffix': '/1839337_z_FX7k8AgN51w6GfC01SsbIWD5lVE9QrT7H6sMCjE7Y.jpg', 'width': 869, 'height': 489, 'visibility': 'public'}, 'logView': True, 'followers': {'count': 17}, 'listItems': {'count': 47, 'items': [{'id': 't53fd469e498e46c43b175ca9', 'createdAt': 1519661914, 'photo': {'id': '58543b8a33a24554234d31d3', 'createdAt': 1481915274, 'prefix': 'https://fastly.4sqi.net/img/general/', 'suffix': '/26796427_cf6FqeMMO3DJgV4qOaWkzOubXYs3xjiNvHDRZk_7SVs.jpg', 'width': 1440, 'height': 1920, 'visibility': 'public'}}]}}, {'id': '50e2ffd5e4b0eb1ffab6d182', 'name': 'Dining in Harlem (cafes, bistros, sandwich shops)', 'description': '', 'type': 'others', 'user': {'firstName': 'Harlem', 'lastName': 'A', 'countryCode': 'US'}, 'editable': False, 'public': True, 'collaborative': False, 'url': '/gr8trharlem411/list/dining-in-harlem-cafes-bistros-sandwich-shops', 'canonicalUrl': 'https://foursquare.com/gr8trharlem411/list/dining-in-harlem-cafes-bistros-sandwich-shops', 'createdAt': 1357053909, 'updatedAt': 1490490038, 'photo': {'id': '4f71e6b5e4b01f4e1c4dc234', 'createdAt': 1332864693, 'prefix': 'https://fastly.4sqi.net/img/general/', 'suffix': '/8bEsHx9sbpqpIhs14xFE7itBZg-KUSNoteapNVh1pMU.jpg', 'width': 720, 'height': 537, 'visibility': 'public'}, 'followers': {'count': 30}, 'listItems': {'count': 106, 'items': [{'id': 'v53e01975498e78c0915599bf', 'createdAt': 1470987326}]}}, {'id': '50f96ebee4b077e2307b45a8', 'name': 'Eat NYC', 'description': 'Food, glorious food, in the city so nice they named it twice. Mostly fresh and good for you, mostly ethnic, mostly very reasonably priced.', 'type': 'others', 'user': {'firstName': 'Jeffrey', 'lastName': 'Z', 'countryCode': 'US'}, 'editable': False, 'public': True, 'collaborative': False, 'url': '/zeldman/list/eat-nyc', 'canonicalUrl': 'https://foursquare.com/zeldman/list/eat-nyc', 'createdAt': 1358524094, 'updatedAt': 1600488372, 'photo': {'id': '532cbe8311d2ebb3fe2242af', 'createdAt': 1395441283, 'prefix': 'https://fastly.4sqi.net/img/general/', 'suffix': '/5022019_Bm6anLvOEwSZacJ5I3WPmLlQbTx4LIE5IdFTgxW4dsg.jpg', 'width': 4912, 'height': 3264, 'visibility': 'public'}, 'followers': {'count': 111}, 'listItems': {'count': 293, 'items': [{'id': 't54b7ee39498e236c00e5ad21', 'createdAt': 1440939939, 'photo': {'id': '55723b41498e1d1b874b38d0', 'createdAt': 1433549633, 'prefix': 'https://fastly.4sqi.net/img/general/', 'suffix': '/5781963_fuokb-vwzFBDNg3M-Iq8TfqMAcaiR64If6_qoAxGs58.jpg', 'width': 1440, 'height': 1440, 'visibility': 'public'}}]}}]}]}, 'hours': {'status': 'Open until 11:45 PM', 'richStatus': {'entities': [], 'text': 'Open until 11:45 PM'}, 'isOpen': True, 'isLocalHoliday': False, 'dayData': [], 'timeframes': [{'days': 'Mon–Thu, Sun', 'includesToday': True, 'open': [{'renderedTime': '8:00 AM–11:45 PM'}], 'segments': []}, {'days': 'Fri–Sat', 'open': [{'renderedTime': '8:00 AM–Midnight'}], 'segments': []}]}, 'popular': {'isOpen': False, 'isLocalHoliday': False, 'timeframes': [{'days': 'Today', 'includesToday': True, 'open': [{'renderedTime': '6:00 PM–9:00 PM'}], 'segments': []}, {'days': 'Wed', 'open': [{'renderedTime': '8:00 AM–9:00 AM'}, {'renderedTime': '1:00 PM–2:00 PM'}, {'renderedTime': '7:00 PM–10:00 PM'}], 'segments': []}, {'days': 'Thu', 'open': [{'renderedTime': '8:00 AM–11:00 AM'}, {'renderedTime': '2:00 PM–3:00 PM'}, {'renderedTime': '6:00 PM–10:00 PM'}], 'segments': []}, {'days': 'Fri', 'open': [{'renderedTime': 'Noon–1:00 PM'}, {'renderedTime': '5:00 PM–Midnight'}], 'segments': []}, {'days': 'Sat', 'open': [{'renderedTime': '9:00 AM–11:00 PM'}], 'segments': []}, {'days': 'Sun', 'open': [{'renderedTime': '10:00 AM–10:00 PM'}], 'segments': []}, {'days': 'Mon', 'open': [{'renderedTime': 'Noon–2:00 PM'}, {'renderedTime': '7:00 PM–10:00 PM'}], 'segments': []}]}, 'seasonalHours': [], 'defaultHours': {'status': 'Open until 11:45 PM', 'richStatus': {'entities': [], 'text': 'Open until 11:45 PM'}, 'isOpen': True, 'isLocalHoliday': False, 'dayData': [], 'timeframes': [{'days': 'Mon–Thu, Sun', 'includesToday': True, 'open': [{'renderedTime': '8:00 AM–11:45 PM'}], 'segments': []}, {'days': 'Fri–Sat', 'open': [{'renderedTime': '8:00 AM–Midnight'}], 'segments': []}]}, 'pageUpdates': {'count': 0, 'items': []}, 'inbox': {'count': 0, 'items': []}, 'attributes': {'groups': [{'type': 'price', 'name': 'Price', 'summary': '$$$$', 'count': 1, 'items': [{'displayName': 'Price', 'displayValue': '$$$$', 'priceTier': 4}]}, {'type': 'outdoorSeating', 'name': 'Outdoor Seating', 'summary': 'Outdoor Seating', 'count': 1, 'items': [{'displayName': 'Outdoor Seating', 'displayValue': 'Yes'}]}, {'type': 'wifi', 'name': 'Wi-Fi', 'summary': 'Wi-Fi', 'count': 1, 'items': [{'displayName': 'Wi-Fi', 'displayValue': 'Yes'}]}, {'type': 'serves', 'name': 'Menus', 'summary': 'Happy Hour, Lunch & more', 'count': 8, 'items': [{'displayName': 'Breakfast', 'displayValue': 'Breakfast'}, {'displayName': 'Brunch', 'displayValue': 'Brunch'}, {'displayName': 'Lunch', 'displayValue': 'Lunch'}, {'displayName': 'Dinner', 'displayValue': 'Dinner'}, {'displayName': 'Happy Hour', 'displayValue': 'Happy Hour'}]}, {'type': 'drinks', 'name': 'Drinks', 'summary': 'Wine, Full Bar & Cocktails', 'count': 5, 'items': [{'displayName': 'Wine', 'displayValue': 'Wine'}, {'displayName': 'Full Bar', 'displayValue': 'Full Bar'}, {'displayName': 'Cocktails', 'displayValue': 'Cocktails'}]}]}, 'bestPhoto': {'id': '549075c611d251a92ca1fe0d', 'createdAt': 1418753478, 'source': {'name': 'Foursquare Web', 'url': 'https://foursquare.com'}, 'prefix': 'https://fastly.4sqi.net/img/general/', 'suffix': '/106220302_ZwnTq59xwQnWdMr2u15iRgNy5AQz2JQZjVNVpQn-Qc4.jpg', 'width': 300, 'height': 300, 'visibility': 'public'}, 'colors': {'highlightColor': {'photoId': '549075c611d251a92ca1fe0d', 'value': -14145496}, 'highlightTextColor': {'photoId': '549075c611d251a92ca1fe0d', 'value': -1}, 'algoVersion': 3}}}}\n",
      "                         ID                 Name  Likes  Rating  Tips\n",
      "0  53e01975498e78c0915599bf  Ponty Bistro Harlem    107     8.6    31\n",
      "( 2 / 4 ) processed\n"
     ]
    },
    {
     "name": "stdout",
     "output_type": "stream",
     "text": [
      "{'meta': {'code': 200, 'requestId': '603efca11734f052cc3fe740'}, 'response': {'venue': {'id': '4c2fdced452620a120551e0f', 'name': 'Keur Sokhna', 'contact': {'phone': '2123685007', 'formattedPhone': '(212) 368-5007'}, 'location': {'address': '2249 Adam Clayton Powell Jr Blvd', 'crossStreet': '133rd', 'lat': 40.81355599557865, 'lng': -73.94500077822643, 'labeledLatLngs': [{'label': 'display', 'lat': 40.81355599557865, 'lng': -73.94500077822643}, {'label': 'entrance', 'lat': 40.813506, 'lng': -73.944707}], 'postalCode': '10027', 'cc': 'US', 'city': 'New York', 'state': 'NY', 'country': 'United States', 'formattedAddress': ['2249 Adam Clayton Powell Jr Blvd (133rd)', 'New York, NY 10027', 'United States']}, 'canonicalUrl': 'https://foursquare.com/v/keur-sokhna/4c2fdced452620a120551e0f', 'categories': [{'id': '4bf58dd8d48988d1c8941735', 'name': 'African Restaurant', 'pluralName': 'African Restaurants', 'shortName': 'African', 'icon': {'prefix': 'https://ss3.4sqi.net/img/categories_v2/food/african_', 'suffix': '.png'}, 'primary': True}], 'verified': False, 'stats': {'tipCount': 8}, 'url': 'http://keursokhnaplus.com', 'price': {'tier': 2, 'message': 'Moderate', 'currency': '$'}, 'likes': {'count': 12, 'groups': [{'type': 'others', 'count': 12, 'items': []}], 'summary': '12 Likes'}, 'dislike': False, 'ok': False, 'rating': 7.7, 'ratingColor': 'C5DE35', 'ratingSignals': 18, 'allowMenuUrlEdit': True, 'beenHere': {'count': 0, 'unconfirmedCount': 0, 'marked': False, 'lastCheckinExpiredAt': 0}, 'specials': {'count': 0, 'items': []}, 'photos': {'count': 10, 'groups': [{'type': 'venue', 'name': 'Venue photos', 'count': 10, 'items': [{'id': '5c3a314be4c459002b9c6654', 'createdAt': 1547317579, 'source': {'name': 'Swarm for Android', 'url': 'https://www.swarmapp.com'}, 'prefix': 'https://fastly.4sqi.net/img/general/', 'suffix': '/8200695_1wFyfAB-83LoUO-kW1xUDuwmi8yQKhEKFEpMC2wMxFY.jpg', 'width': 1900, 'height': 1068, 'visibility': 'public'}]}]}, 'reasons': {'count': 0, 'items': []}, 'hereNow': {'count': 0, 'summary': 'Nobody here', 'groups': []}, 'createdAt': 1278205165, 'tips': {'count': 8, 'groups': [{'type': 'others', 'name': 'All tips', 'count': 8, 'items': [{'id': '4ee2aa7af9ab478e59b56a4f', 'createdAt': 1323477626, 'text': 'Lamb and brown rice are crack.', 'type': 'user', 'canonicalUrl': 'https://foursquare.com/item/4ee2aa7af9ab478e59b56a4f', 'lang': 'en', 'likes': {'count': 4, 'groups': [{'type': 'others', 'count': 4, 'items': [{'firstName': 'Edwin', 'lastName': 'T', 'countryCode': 'US'}, {'firstName': 'John', 'lastName': 'T', 'countryCode': 'US'}, {'firstName': 'Rob', 'lastName': 'L', 'countryCode': 'US'}, {'firstName': 'Ben', 'lastName': 'R', 'countryCode': 'US'}]}], 'summary': '4 likes'}, 'logView': True, 'agreeCount': 4, 'disagreeCount': 0, 'todo': {'count': 0}, 'user': {'firstName': 'Chris', 'lastName': 'K', 'countryCode': 'US'}}]}]}, 'shortUrl': 'http://4sq.com/dwCEQl', 'timeZone': 'America/New_York', 'listed': {'count': 32, 'groups': [{'type': 'others', 'name': 'Lists from other people', 'count': 32, 'items': [{'id': '527e8f4e11d2909ea127a4ea', 'name': 'Uptown', 'description': '', 'type': 'others', 'user': {'firstName': 'Kimberly', 'lastName': 'J', 'countryCode': 'SG'}, 'editable': False, 'public': True, 'collaborative': False, 'url': '/user/40711372/list/uptown', 'canonicalUrl': 'https://foursquare.com/user/40711372/list/uptown', 'createdAt': 1384025934, 'updatedAt': 1599061536, 'followers': {'count': 1}, 'listItems': {'count': 75, 'items': [{'id': 'v4c2fdced452620a120551e0f', 'createdAt': 1480448207}]}}, {'id': '4f941dc4e4b0c03d2af2250b', 'name': 'NYC Uptown', 'description': '', 'type': 'others', 'user': {'firstName': 'Han', 'lastName': 'Y', 'countryCode': 'US'}, 'editable': False, 'public': True, 'collaborative': False, 'url': '/hanacious/list/nyc-uptown', 'canonicalUrl': 'https://foursquare.com/hanacious/list/nyc-uptown', 'createdAt': 1335107012, 'updatedAt': 1513785823, 'photo': {'id': '5091d959e4b0a82b99c52bfd', 'createdAt': 1351735641, 'prefix': 'https://fastly.4sqi.net/img/general/', 'suffix': '/165288__v8Nh0SZdaJG234HrRjnXiOiYr_12nh166P1n5CMRO4.jpg', 'width': 720, 'height': 540, 'visibility': 'public'}, 'followers': {'count': 1}, 'listItems': {'count': 27, 'items': [{'id': 't4ee2aa7af9ab478e59b56a4f', 'createdAt': 1392164153, 'photo': {'id': '51a2b412498e776db2b08c1f', 'createdAt': 1369617426, 'prefix': 'https://fastly.4sqi.net/img/general/', 'suffix': '/37506_Q8lP7nkjTXhrjlurvDVaJpCI1QC2oW2SEiP1Y4Xq-ls.jpg', 'width': 612, 'height': 612, 'visibility': 'public'}}]}}, {'id': '5006cafbe4b04b9eada43c43', 'name': 'West Harlem to Try', 'description': '', 'type': 'others', 'user': {'firstName': 'Jeremy', 'lastName': 'F', 'countryCode': 'US'}, 'editable': False, 'public': True, 'collaborative': False, 'url': '/jeremyhfisher/list/west-harlem-to-try', 'canonicalUrl': 'https://foursquare.com/jeremyhfisher/list/west-harlem-to-try', 'createdAt': 1342622459, 'updatedAt': 1342624889, 'followers': {'count': 1}, 'listItems': {'count': 6, 'items': [{'id': 'v4c2fdced452620a120551e0f', 'createdAt': 1342623593}]}}, {'id': '55de24a4498e5930422c37a9', 'name': 'Black Black Black!', 'description': 'Black-owned restaurants', 'type': 'others', 'user': {'firstName': 'L', 'lastName': 'E', 'countryCode': 'US'}, 'editable': False, 'public': True, 'collaborative': True, 'url': '/user/434711/list/black-black-black', 'canonicalUrl': 'https://foursquare.com/user/434711/list/black-black-black', 'createdAt': 1440621732, 'updatedAt': 1577553847, 'followers': {'count': 1}, 'listItems': {'count': 119, 'items': [{'id': 'v4c2fdced452620a120551e0f', 'createdAt': 1440631856}]}}]}]}, 'hours': {'status': 'Open until 2:00 AM', 'richStatus': {'entities': [], 'text': 'Open until 2:00 AM'}, 'isOpen': True, 'isLocalHoliday': False, 'dayData': [], 'timeframes': [{'days': 'Mon–Fri, Sun', 'includesToday': True, 'open': [{'renderedTime': '9:00 AM–2:00 AM'}], 'segments': []}, {'days': 'Sat', 'open': [{'renderedTime': '9:00 AM–3:00 AM'}], 'segments': []}]}, 'seasonalHours': [], 'defaultHours': {'status': 'Open until 2:00 AM', 'richStatus': {'entities': [], 'text': 'Open until 2:00 AM'}, 'isOpen': True, 'isLocalHoliday': False, 'dayData': [], 'timeframes': [{'days': 'Mon–Fri, Sun', 'includesToday': True, 'open': [{'renderedTime': '9:00 AM–2:00 AM'}], 'segments': []}, {'days': 'Sat', 'open': [{'renderedTime': '9:00 AM–3:00 AM'}], 'segments': []}]}, 'pageUpdates': {'count': 0, 'items': []}, 'inbox': {'count': 0, 'items': []}, 'attributes': {'groups': [{'type': 'price', 'name': 'Price', 'summary': '$$', 'count': 1, 'items': [{'displayName': 'Price', 'displayValue': '$$', 'priceTier': 2}]}, {'type': 'reservations', 'name': 'Reservations', 'count': 3, 'items': [{'displayName': 'Reservations', 'displayValue': 'No'}]}, {'type': 'payments', 'name': 'Credit Cards', 'summary': 'Credit Cards', 'count': 7, 'items': [{'displayName': 'Credit Cards', 'displayValue': 'Yes (incl. American Express & MasterCard)'}]}, {'type': 'outdoorSeating', 'name': 'Outdoor Seating', 'count': 1, 'items': [{'displayName': 'Outdoor Seating', 'displayValue': 'No'}]}, {'type': 'music', 'name': 'Music', 'summary': 'Live Music', 'count': 3, 'items': [{'displayName': 'Live Music', 'displayValue': 'Live Music'}]}, {'type': 'wifi', 'name': 'Wi-Fi', 'summary': 'Wi-Fi', 'count': 1, 'items': [{'displayName': 'Wi-Fi', 'displayValue': 'Yes'}]}, {'type': 'serves', 'name': 'Menus', 'summary': 'Brunch', 'count': 8, 'items': [{'displayName': 'Brunch', 'displayValue': 'Brunch'}]}, {'type': 'drinks', 'name': 'Drinks', 'summary': 'Cocktails', 'count': 5, 'items': [{'displayName': 'Cocktails', 'displayValue': 'Cocktails'}]}]}, 'bestPhoto': {'id': '5c3a314be4c459002b9c6654', 'createdAt': 1547317579, 'source': {'name': 'Swarm for Android', 'url': 'https://www.swarmapp.com'}, 'prefix': 'https://fastly.4sqi.net/img/general/', 'suffix': '/8200695_1wFyfAB-83LoUO-kW1xUDuwmi8yQKhEKFEpMC2wMxFY.jpg', 'width': 1900, 'height': 1068, 'visibility': 'public'}, 'colors': {'highlightColor': {'photoId': '5c3a314be4c459002b9c6654', 'value': -12578808}, 'highlightTextColor': {'photoId': '5c3a314be4c459002b9c6654', 'value': -1}, 'algoVersion': 3}}}}\n",
      "                         ID         Name  Likes  Rating  Tips\n",
      "0  4c2fdced452620a120551e0f  Keur Sokhna     12     7.7     8\n",
      "( 3 / 4 ) processed\n"
     ]
    },
    {
     "name": "stdout",
     "output_type": "stream",
     "text": [
      "{'meta': {'code': 200, 'requestId': '603efca2120f9a5edb49038c'}, 'response': {'venue': {'id': '4a9ea132f964a520ad3a20e3', 'name': 'Africa Kine Restaurant', 'contact': {'phone': '2126669400', 'formattedPhone': '(212) 666-9400'}, 'location': {'address': '2267 7th Ave', 'crossStreet': 'at Adam Clayton Powell Junior Blvd', 'lat': 40.8137280306601, 'lng': -73.94442558288574, 'labeledLatLngs': [{'label': 'display', 'lat': 40.8137280306601, 'lng': -73.94442558288574}], 'postalCode': '10027', 'cc': 'US', 'city': 'New York', 'state': 'NY', 'country': 'United States', 'formattedAddress': ['2267 7th Ave (at Adam Clayton Powell Junior Blvd)', 'New York, NY 10027', 'United States']}, 'canonicalUrl': 'https://foursquare.com/v/africa-kine-restaurant/4a9ea132f964a520ad3a20e3', 'categories': [{'id': '4bf58dd8d48988d1c8941735', 'name': 'African Restaurant', 'pluralName': 'African Restaurants', 'shortName': 'African', 'icon': {'prefix': 'https://ss3.4sqi.net/img/categories_v2/food/african_', 'suffix': '.png'}, 'primary': True}], 'verified': False, 'stats': {'tipCount': 33}, 'url': 'http://www.africakine.com', 'price': {'tier': 2, 'message': 'Moderate', 'currency': '$'}, 'hasMenu': True, 'likes': {'count': 35, 'groups': [{'type': 'others', 'count': 35, 'items': []}], 'summary': '35 Likes'}, 'dislike': False, 'ok': False, 'rating': 7.3, 'ratingColor': 'C5DE35', 'ratingSignals': 70, 'delivery': {'id': '318817', 'url': 'https://www.seamless.com/menu/africa-kine-restaurant-2267-7th-ave-new-york/318817?affiliate=1131&utm_source=foursquare-affiliate-network&utm_medium=affiliate&utm_campaign=1131&utm_content=318817', 'provider': {'name': 'seamless', 'icon': {'prefix': 'https://fastly.4sqi.net/img/general/cap/', 'sizes': [40, 50], 'name': '/delivery_provider_seamless_20180129.png'}}}, 'menu': {'type': 'Menu', 'label': 'Menu', 'anchor': 'View Menu', 'url': 'https://foursquare.com/v/africa-kine-restaurant/4a9ea132f964a520ad3a20e3/menu', 'mobileUrl': 'https://foursquare.com/v/4a9ea132f964a520ad3a20e3/device_menu'}, 'allowMenuUrlEdit': True, 'beenHere': {'count': 0, 'unconfirmedCount': 0, 'marked': False, 'lastCheckinExpiredAt': 0}, 'specials': {'count': 0, 'items': []}, 'photos': {'count': 48, 'groups': [{'type': 'venue', 'name': 'Venue photos', 'count': 48, 'items': [{'id': '512181afe4b016a07d6ad78e', 'createdAt': 1361150383, 'source': {'name': 'Foursquare for iOS', 'url': 'https://foursquare.com/download/#/iphone'}, 'prefix': 'https://fastly.4sqi.net/img/general/', 'suffix': '/33781744_CCVTlrC45zjB2l9OogRjhZheoEAB2mQR-M_Grcb_t9E.jpg', 'width': 720, 'height': 960, 'visibility': 'public'}]}]}, 'reasons': {'count': 1, 'items': [{'summary': 'Lots of people like this place', 'type': 'general', 'reasonName': 'rawLikesReason'}]}, 'description': 'Africa Kine Restaurant is one of the top african restaurants in New York - just ask the critics and our regular customers. We combine culinary delights with style and personal flair to create a unique experience every time you visit us. We strive to make each visit satisfying and memorable.', 'hereNow': {'count': 0, 'summary': 'Nobody here', 'groups': []}, 'createdAt': 1251909938, 'tips': {'count': 33, 'groups': [{'type': 'others', 'name': 'All tips', 'count': 33, 'items': [{'id': '4af74f4270c603bb77d38eb4', 'createdAt': 1257721666, 'text': 'try it', 'type': 'user', 'canonicalUrl': 'https://foursquare.com/item/4af74f4270c603bb77d38eb4', 'lang': 'en', 'likes': {'count': 6, 'groups': [{'type': 'others', 'count': 6, 'items': []}], 'summary': '6 likes'}, 'logView': True, 'agreeCount': 0, 'disagreeCount': 0, 'todo': {'count': 0}, 'user': {'firstName': 'Dino', 'lastName': 'M', 'countryCode': 'GB'}}]}]}, 'shortUrl': 'http://4sq.com/7SS8Et', 'timeZone': 'America/New_York', 'listed': {'count': 77, 'groups': [{'type': 'others', 'name': 'Lists from other people', 'count': 77, 'items': [{'id': '5a834e62f8cbd459a28eb9b0', 'name': '200 Black-Owned Restaurants in NYC', 'description': 'The Foursquare team compiled this list to spotlight some of the best Black-owned restaurants in NYC. Do you want your business to be featured here? Message us at support@foursquare.com.', 'type': 'others', 'user': {'firstName': 'Foursquare City Guide', 'countryCode': 'US', 'type': 'page'}, 'editable': False, 'public': True, 'collaborative': False, 'url': '/foursquare/list/200-blackowned-restaurants-in-nyc', 'canonicalUrl': 'https://foursquare.com/foursquare/list/200-blackowned-restaurants-in-nyc', 'createdAt': 1518554722, 'updatedAt': 1591990806, 'photo': {'id': '574ef8b4498e2399caccb9d8', 'createdAt': 1464793268, 'prefix': 'https://fastly.4sqi.net/img/general/', 'suffix': '/96505883__sOMtZbVEtDJVf51-4eR_goaHrVuKM1kaw4fzrUCc8c.jpg', 'width': 2123, 'height': 1413, 'visibility': 'public'}, 'logView': True, 'guideType': 'bestOf', 'guide': True, 'followers': {'count': 58}, 'listItems': {'count': 261, 'items': [{'id': 'v4a9ea132f964a520ad3a20e3', 'createdAt': 1591989722}]}}, {'id': '507efcb8e4b0b161f010c668', 'name': \"The City's Best Lunches\", 'description': \"Whether you're looking to impress an important client, grab something on the go, or anything in-between, one of these Lunch hot-spots is sure to be the right place!\", 'type': 'others', 'user': {'firstName': 'The Corcoran Group', 'countryCode': 'US', 'type': 'page'}, 'editable': False, 'public': True, 'collaborative': False, 'url': '/corcoran_group/list/the-citys-best-lunches', 'canonicalUrl': 'https://foursquare.com/corcoran_group/list/the-citys-best-lunches', 'createdAt': 1350499512, 'updatedAt': 1365711120, 'photo': {'id': '501ec3f8e4b047a4fad408e6', 'createdAt': 1344193528, 'prefix': 'https://fastly.4sqi.net/img/general/', 'suffix': '/q4szRxXyrsUZLvIyyh3IKVPUZXpV69tDpTzKru3_FFw.jpg', 'width': 612, 'height': 612, 'visibility': 'public'}, 'logView': True, 'followers': {'count': 94}, 'listItems': {'count': 25, 'items': [{'id': 't4eb43cecd5fb442a6724fa08', 'createdAt': 1350500487, 'photo': {'id': '5021d78be4b05abb1c867258', 'createdAt': 1344395147, 'prefix': 'https://fastly.4sqi.net/img/general/', 'suffix': '/V-_3bdR9Gs-n3mKSWpcdd29leozoPRhw4wQ3LyqtQYE.jpg', 'width': 720, 'height': 406, 'visibility': 'public'}}]}}, {'id': '50e2ffb4e4b00e6184b9d769', 'name': 'Gifts, Boutiques & Specialty in Greater Harlem', 'description': '', 'type': 'others', 'user': {'firstName': 'Harlem', 'lastName': 'A', 'countryCode': 'US'}, 'editable': False, 'public': True, 'collaborative': False, 'url': '/gr8trharlem411/list/gifts-boutiques--specialty-in-greater-harlem', 'canonicalUrl': 'https://foursquare.com/gr8trharlem411/list/gifts-boutiques--specialty-in-greater-harlem', 'createdAt': 1357053876, 'updatedAt': 1505762758, 'photo': {'id': '508f1926e4b0b197b91e9948', 'createdAt': 1351555366, 'prefix': 'https://fastly.4sqi.net/img/general/', 'suffix': '/3012409_yMZbwiH0FLFVrowV4qVD4yC1oJqGLHD9jHMmWV2uIwY.jpg', 'width': 540, 'height': 720, 'visibility': 'public'}, 'followers': {'count': 10}, 'listItems': {'count': 130, 'items': [{'id': 't54b6cede498e4b580662b060', 'createdAt': 1421434865}]}}, {'id': '50e2ffd5e4b0eb1ffab6d182', 'name': 'Dining in Harlem (cafes, bistros, sandwich shops)', 'description': '', 'type': 'others', 'user': {'firstName': 'Harlem', 'lastName': 'A', 'countryCode': 'US'}, 'editable': False, 'public': True, 'collaborative': False, 'url': '/gr8trharlem411/list/dining-in-harlem-cafes-bistros-sandwich-shops', 'canonicalUrl': 'https://foursquare.com/gr8trharlem411/list/dining-in-harlem-cafes-bistros-sandwich-shops', 'createdAt': 1357053909, 'updatedAt': 1490490038, 'photo': {'id': '4f71e6b5e4b01f4e1c4dc234', 'createdAt': 1332864693, 'prefix': 'https://fastly.4sqi.net/img/general/', 'suffix': '/8bEsHx9sbpqpIhs14xFE7itBZg-KUSNoteapNVh1pMU.jpg', 'width': 720, 'height': 537, 'visibility': 'public'}, 'followers': {'count': 30}, 'listItems': {'count': 106, 'items': [{'id': 't54b6cede498e4b580662b060', 'createdAt': 1421266659, 'photo': {'id': '4e9e27126da161b08d781a28', 'createdAt': 1318987538, 'prefix': 'https://fastly.4sqi.net/img/general/', 'suffix': '/E2X3OPRYALJCWTQOIOC512KEMBI3M4QYGP25A2W4JQO4HHZS.jpg', 'width': 537, 'height': 720, 'visibility': 'public'}}]}}]}]}, 'hours': {'status': 'Open until Midnight', 'richStatus': {'entities': [], 'text': 'Open until Midnight'}, 'isOpen': True, 'isLocalHoliday': False, 'dayData': [], 'timeframes': [{'days': 'Mon–Thu', 'includesToday': True, 'open': [{'renderedTime': 'Noon–Midnight'}], 'segments': []}, {'days': 'Fri–Sun', 'open': [{'renderedTime': 'Noon–2:00 AM'}], 'segments': []}]}, 'popular': {'status': 'Likely open', 'richStatus': {'entities': [], 'text': 'Likely open'}, 'isOpen': True, 'isLocalHoliday': False, 'timeframes': [{'days': 'Today', 'includesToday': True, 'open': [{'renderedTime': '7:00 PM–11:00 PM'}], 'segments': []}, {'days': 'Wed', 'open': [{'renderedTime': '6:00 PM–11:00 PM'}], 'segments': []}, {'days': 'Thu', 'open': [{'renderedTime': '1:00 PM–2:00 PM'}, {'renderedTime': '6:00 PM–11:00 PM'}], 'segments': []}, {'days': 'Fri', 'open': [{'renderedTime': 'Noon–2:00 PM'}, {'renderedTime': '5:00 PM–Midnight'}], 'segments': []}, {'days': 'Sat', 'open': [{'renderedTime': 'Noon–Midnight'}], 'segments': []}, {'days': 'Sun', 'open': [{'renderedTime': '2:00 PM–10:00 PM'}], 'segments': []}, {'days': 'Mon', 'open': [{'renderedTime': '1:00 PM–2:00 PM'}, {'renderedTime': '6:00 PM–Midnight'}], 'segments': []}]}, 'seasonalHours': [], 'defaultHours': {'status': 'Open until Midnight', 'richStatus': {'entities': [], 'text': 'Open until Midnight'}, 'isOpen': True, 'isLocalHoliday': False, 'dayData': [], 'timeframes': [{'days': 'Mon–Thu', 'includesToday': True, 'open': [{'renderedTime': 'Noon–Midnight'}], 'segments': []}, {'days': 'Fri–Sun', 'open': [{'renderedTime': 'Noon–2:00 AM'}], 'segments': []}]}, 'pageUpdates': {'count': 0, 'items': []}, 'inbox': {'count': 0, 'items': []}, 'attributes': {'groups': [{'type': 'price', 'name': 'Price', 'summary': '$$', 'count': 1, 'items': [{'displayName': 'Price', 'displayValue': '$$', 'priceTier': 2}]}, {'type': 'reservations', 'name': 'Reservations', 'summary': 'Reservations', 'count': 3, 'items': [{'displayName': 'Reservations', 'displayValue': 'Yes'}]}, {'type': 'payments', 'name': 'Credit Cards', 'summary': 'Credit Cards', 'count': 7, 'items': [{'displayName': 'Credit Cards', 'displayValue': 'Yes'}]}, {'type': 'outdoorSeating', 'name': 'Outdoor Seating', 'count': 1, 'items': [{'displayName': 'Outdoor Seating', 'displayValue': 'No'}]}]}, 'bestPhoto': {'id': '512181afe4b016a07d6ad78e', 'createdAt': 1361150383, 'source': {'name': 'Foursquare for iOS', 'url': 'https://foursquare.com/download/#/iphone'}, 'prefix': 'https://fastly.4sqi.net/img/general/', 'suffix': '/33781744_CCVTlrC45zjB2l9OogRjhZheoEAB2mQR-M_Grcb_t9E.jpg', 'width': 720, 'height': 960, 'visibility': 'public'}, 'colors': {'highlightColor': {'photoId': '512181afe4b016a07d6ad78e', 'value': -5730224}, 'highlightTextColor': {'photoId': '512181afe4b016a07d6ad78e', 'value': -16777216}, 'algoVersion': 3}}}}\n",
      "                         ID                    Name  Likes  Rating  Tips\n",
      "0  4a9ea132f964a520ad3a20e3  Africa Kine Restaurant     35     7.3    33\n",
      "( 4 / 4 ) processed\n"
     ]
    },
    {
     "data": {
      "text/html": [
       "<div>\n",
       "<style scoped>\n",
       "    .dataframe tbody tr th:only-of-type {\n",
       "        vertical-align: middle;\n",
       "    }\n",
       "\n",
       "    .dataframe tbody tr th {\n",
       "        vertical-align: top;\n",
       "    }\n",
       "\n",
       "    .dataframe thead th {\n",
       "        text-align: right;\n",
       "    }\n",
       "</style>\n",
       "<table border=\"1\" class=\"dataframe\">\n",
       "  <thead>\n",
       "    <tr style=\"text-align: right;\">\n",
       "      <th></th>\n",
       "      <th>Borough</th>\n",
       "      <th>Neighborhood</th>\n",
       "      <th>ID</th>\n",
       "      <th>Name</th>\n",
       "      <th>Likes</th>\n",
       "      <th>Rating</th>\n",
       "      <th>Tips</th>\n",
       "    </tr>\n",
       "  </thead>\n",
       "  <tbody>\n",
       "    <tr>\n",
       "      <th>0</th>\n",
       "      <td>Bronx</td>\n",
       "      <td>University Heights</td>\n",
       "      <td>4c2f8b1b7cc0c9b6a1eaeb9a</td>\n",
       "      <td>Accra Resturant</td>\n",
       "      <td>9</td>\n",
       "      <td>6.8</td>\n",
       "      <td>3</td>\n",
       "    </tr>\n",
       "    <tr>\n",
       "      <th>1</th>\n",
       "      <td>Manhattan</td>\n",
       "      <td>Central Harlem</td>\n",
       "      <td>53e01975498e78c0915599bf</td>\n",
       "      <td>Ponty Bistro Harlem</td>\n",
       "      <td>107</td>\n",
       "      <td>8.6</td>\n",
       "      <td>31</td>\n",
       "    </tr>\n",
       "    <tr>\n",
       "      <th>2</th>\n",
       "      <td>Manhattan</td>\n",
       "      <td>Central Harlem</td>\n",
       "      <td>4c2fdced452620a120551e0f</td>\n",
       "      <td>Keur Sokhna</td>\n",
       "      <td>12</td>\n",
       "      <td>7.7</td>\n",
       "      <td>8</td>\n",
       "    </tr>\n",
       "    <tr>\n",
       "      <th>3</th>\n",
       "      <td>Manhattan</td>\n",
       "      <td>Central Harlem</td>\n",
       "      <td>4a9ea132f964a520ad3a20e3</td>\n",
       "      <td>Africa Kine Restaurant</td>\n",
       "      <td>35</td>\n",
       "      <td>7.3</td>\n",
       "      <td>33</td>\n",
       "    </tr>\n",
       "  </tbody>\n",
       "</table>\n",
       "</div>"
      ],
      "text/plain": [
       "     Borough        Neighborhood                        ID  \\\n",
       "0      Bronx  University Heights  4c2f8b1b7cc0c9b6a1eaeb9a   \n",
       "1  Manhattan      Central Harlem  53e01975498e78c0915599bf   \n",
       "2  Manhattan      Central Harlem  4c2fdced452620a120551e0f   \n",
       "3  Manhattan      Central Harlem  4a9ea132f964a520ad3a20e3   \n",
       "\n",
       "                     Name Likes  Rating Tips  \n",
       "0         Accra Resturant     9     6.8    3  \n",
       "1     Ponty Bistro Harlem   107     8.6   31  \n",
       "2             Keur Sokhna    12     7.7    8  \n",
       "3  Africa Kine Restaurant    35     7.3   33  "
      ]
     },
     "execution_count": 17,
     "metadata": {},
     "output_type": "execute_result"
    }
   ],
   "source": [
    "column_names=['Borough', 'Neighborhood', 'ID','Name','Likes','Rating','Tips']\n",
    "african_rest_stats_ny=pd.DataFrame(columns=column_names)\n",
    "count=1\n",
    "for row in african_rest_ny.values.tolist():\n",
    "    Borough,Neighborhood,ID,Name=row\n",
    "    try:\n",
    "        venue_details=get_venue_details(ID)\n",
    "        print(venue_details)\n",
    "        id,name,likes,rating,tips=venue_details.values.tolist()[0]\n",
    "    except IndexError:\n",
    "        print('No data available for id=',ID)\n",
    "        # we will assign 0 value for these resturants as they may have been \n",
    "        #recently opened or details does not exist in FourSquare Database\n",
    "        id,name,likes,rating,tips=[0]*5\n",
    "    print('(',count,'/',len(african_rest_ny),')','processed')\n",
    "    african_rest_stats_ny = african_rest_stats_ny.append({'Borough': Borough,\n",
    "                                                'Neighborhood': Neighborhood, \n",
    "                                                'ID': id,\n",
    "                                                'Name' : name,\n",
    "                                                'Likes' : likes,\n",
    "                                                'Rating' : rating,\n",
    "                                                'Tips' : tips\n",
    "                                               }, ignore_index=True)\n",
    "    count+=1\n",
    "african_rest_stats_ny.tail()"
   ]
  },
  {
   "cell_type": "markdown",
   "metadata": {},
   "source": [
    "Append new data to the csv file"
   ]
  },
  {
   "cell_type": "code",
   "execution_count": 18,
   "metadata": {},
   "outputs": [],
   "source": [
    "african_rest_stats_ny.to_csv('african_rest_stats_ny_csv.csv') "
   ]
  },
  {
   "cell_type": "code",
   "execution_count": 19,
   "metadata": {},
   "outputs": [
    {
     "data": {
      "text/plain": [
       "(4, 7)"
      ]
     },
     "execution_count": 19,
     "metadata": {},
     "output_type": "execute_result"
    }
   ],
   "source": [
    "african_rest_stats_ny.shape # new size of file"
   ]
  },
  {
   "cell_type": "code",
   "execution_count": 20,
   "metadata": {},
   "outputs": [
    {
     "name": "stdout",
     "output_type": "stream",
     "text": [
      "<class 'pandas.core.frame.DataFrame'>\n",
      "RangeIndex: 4 entries, 0 to 3\n",
      "Data columns (total 7 columns):\n",
      "Borough         4 non-null object\n",
      "Neighborhood    4 non-null object\n",
      "ID              4 non-null object\n",
      "Name            4 non-null object\n",
      "Likes           4 non-null object\n",
      "Rating          4 non-null float64\n",
      "Tips            4 non-null object\n",
      "dtypes: float64(1), object(6)\n",
      "memory usage: 304.0+ bytes\n"
     ]
    }
   ],
   "source": [
    "# To see what values we have in our DataFrame\n",
    "african_rest_stats_ny.info()"
   ]
  },
  {
   "cell_type": "markdown",
   "metadata": {},
   "source": [
    "Now let's convert values of likes and tips to floats for further analysis"
   ]
  },
  {
   "cell_type": "code",
   "execution_count": 21,
   "metadata": {},
   "outputs": [
    {
     "name": "stdout",
     "output_type": "stream",
     "text": [
      "<class 'pandas.core.frame.DataFrame'>\n",
      "RangeIndex: 4 entries, 0 to 3\n",
      "Data columns (total 7 columns):\n",
      "Borough         4 non-null object\n",
      "Neighborhood    4 non-null object\n",
      "ID              4 non-null object\n",
      "Name            4 non-null object\n",
      "Likes           4 non-null float64\n",
      "Rating          4 non-null float64\n",
      "Tips            4 non-null float64\n",
      "dtypes: float64(3), object(4)\n",
      "memory usage: 304.0+ bytes\n"
     ]
    }
   ],
   "source": [
    "african_rest_stats_ny['Likes'] = african_rest_stats_ny['Likes'].astype('float64')\n",
    "african_rest_stats_ny['Tips'] = african_rest_stats_ny['Tips'].astype('float64')\n",
    "african_rest_stats_ny.info()"
   ]
  },
  {
   "cell_type": "code",
   "execution_count": 22,
   "metadata": {},
   "outputs": [
    {
     "data": {
      "text/html": [
       "<div>\n",
       "<style scoped>\n",
       "    .dataframe tbody tr th:only-of-type {\n",
       "        vertical-align: middle;\n",
       "    }\n",
       "\n",
       "    .dataframe tbody tr th {\n",
       "        vertical-align: top;\n",
       "    }\n",
       "\n",
       "    .dataframe thead th {\n",
       "        text-align: right;\n",
       "    }\n",
       "</style>\n",
       "<table border=\"1\" class=\"dataframe\">\n",
       "  <thead>\n",
       "    <tr style=\"text-align: right;\">\n",
       "      <th></th>\n",
       "      <th>Likes</th>\n",
       "      <th>Rating</th>\n",
       "      <th>Tips</th>\n",
       "    </tr>\n",
       "  </thead>\n",
       "  <tbody>\n",
       "    <tr>\n",
       "      <th>count</th>\n",
       "      <td>4.000000</td>\n",
       "      <td>4.000000</td>\n",
       "      <td>4.000000</td>\n",
       "    </tr>\n",
       "    <tr>\n",
       "      <th>mean</th>\n",
       "      <td>40.750000</td>\n",
       "      <td>7.600000</td>\n",
       "      <td>18.750000</td>\n",
       "    </tr>\n",
       "    <tr>\n",
       "      <th>std</th>\n",
       "      <td>45.668187</td>\n",
       "      <td>0.761577</td>\n",
       "      <td>15.456929</td>\n",
       "    </tr>\n",
       "    <tr>\n",
       "      <th>min</th>\n",
       "      <td>9.000000</td>\n",
       "      <td>6.800000</td>\n",
       "      <td>3.000000</td>\n",
       "    </tr>\n",
       "    <tr>\n",
       "      <th>25%</th>\n",
       "      <td>11.250000</td>\n",
       "      <td>7.175000</td>\n",
       "      <td>6.750000</td>\n",
       "    </tr>\n",
       "    <tr>\n",
       "      <th>50%</th>\n",
       "      <td>23.500000</td>\n",
       "      <td>7.500000</td>\n",
       "      <td>19.500000</td>\n",
       "    </tr>\n",
       "    <tr>\n",
       "      <th>75%</th>\n",
       "      <td>53.000000</td>\n",
       "      <td>7.925000</td>\n",
       "      <td>31.500000</td>\n",
       "    </tr>\n",
       "    <tr>\n",
       "      <th>max</th>\n",
       "      <td>107.000000</td>\n",
       "      <td>8.600000</td>\n",
       "      <td>33.000000</td>\n",
       "    </tr>\n",
       "  </tbody>\n",
       "</table>\n",
       "</div>"
      ],
      "text/plain": [
       "            Likes    Rating       Tips\n",
       "count    4.000000  4.000000   4.000000\n",
       "mean    40.750000  7.600000  18.750000\n",
       "std     45.668187  0.761577  15.456929\n",
       "min      9.000000  6.800000   3.000000\n",
       "25%     11.250000  7.175000   6.750000\n",
       "50%     23.500000  7.500000  19.500000\n",
       "75%     53.000000  7.925000  31.500000\n",
       "max    107.000000  8.600000  33.000000"
      ]
     },
     "execution_count": 22,
     "metadata": {},
     "output_type": "execute_result"
    }
   ],
   "source": [
    "african_rest_stats_ny.describe()"
   ]
  },
  {
   "cell_type": "code",
   "execution_count": 23,
   "metadata": {},
   "outputs": [
    {
     "data": {
      "text/plain": [
       "Borough                        Manhattan\n",
       "Neighborhood              Central Harlem\n",
       "ID              53e01975498e78c0915599bf\n",
       "Name                 Ponty Bistro Harlem\n",
       "Likes                                107\n",
       "Rating                               8.6\n",
       "Tips                                  31\n",
       "Name: 1, dtype: object"
      ]
     },
     "execution_count": 23,
     "metadata": {},
     "output_type": "execute_result"
    }
   ],
   "source": [
    "# Resturant with maximum Likes\n",
    "african_rest_stats_ny.iloc[african_rest_stats_ny['Likes'].idxmax()]"
   ]
  },
  {
   "cell_type": "code",
   "execution_count": 24,
   "metadata": {},
   "outputs": [
    {
     "data": {
      "text/plain": [
       "Borough                        Manhattan\n",
       "Neighborhood              Central Harlem\n",
       "ID              53e01975498e78c0915599bf\n",
       "Name                 Ponty Bistro Harlem\n",
       "Likes                                107\n",
       "Rating                               8.6\n",
       "Tips                                  31\n",
       "Name: 1, dtype: object"
      ]
     },
     "execution_count": 24,
     "metadata": {},
     "output_type": "execute_result"
    }
   ],
   "source": [
    "# Resturant with maximum Ratings\n",
    "african_rest_stats_ny.iloc[african_rest_stats_ny['Rating'].idxmax()]"
   ]
  },
  {
   "cell_type": "code",
   "execution_count": 25,
   "metadata": {},
   "outputs": [
    {
     "data": {
      "text/plain": [
       "Borough                        Manhattan\n",
       "Neighborhood              Central Harlem\n",
       "ID              4a9ea132f964a520ad3a20e3\n",
       "Name              Africa Kine Restaurant\n",
       "Likes                                 35\n",
       "Rating                               7.3\n",
       "Tips                                  33\n",
       "Name: 3, dtype: object"
      ]
     },
     "execution_count": 25,
     "metadata": {},
     "output_type": "execute_result"
    }
   ],
   "source": [
    "# Resturant with maximum Tips\n",
    "african_rest_stats_ny.iloc[african_rest_stats_ny['Tips'].idxmax()]"
   ]
  },
  {
   "cell_type": "markdown",
   "metadata": {},
   "source": [
    "#### Now let's visualize the neiborhoods based on average ratings of restaurants "
   ]
  },
  {
   "cell_type": "code",
   "execution_count": 26,
   "metadata": {},
   "outputs": [
    {
     "data": {
      "text/html": [
       "<div>\n",
       "<style scoped>\n",
       "    .dataframe tbody tr th:only-of-type {\n",
       "        vertical-align: middle;\n",
       "    }\n",
       "\n",
       "    .dataframe tbody tr th {\n",
       "        vertical-align: top;\n",
       "    }\n",
       "\n",
       "    .dataframe thead th {\n",
       "        text-align: right;\n",
       "    }\n",
       "</style>\n",
       "<table border=\"1\" class=\"dataframe\">\n",
       "  <thead>\n",
       "    <tr style=\"text-align: right;\">\n",
       "      <th></th>\n",
       "      <th>Neighborhood</th>\n",
       "      <th>Average Rating</th>\n",
       "    </tr>\n",
       "  </thead>\n",
       "  <tbody>\n",
       "    <tr>\n",
       "      <th>0</th>\n",
       "      <td>Central Harlem</td>\n",
       "      <td>7.866667</td>\n",
       "    </tr>\n",
       "    <tr>\n",
       "      <th>1</th>\n",
       "      <td>University Heights</td>\n",
       "      <td>6.800000</td>\n",
       "    </tr>\n",
       "  </tbody>\n",
       "</table>\n",
       "</div>"
      ],
      "text/plain": [
       "         Neighborhood  Average Rating\n",
       "0      Central Harlem        7.866667\n",
       "1  University Heights        6.800000"
      ]
     },
     "execution_count": 26,
     "metadata": {},
     "output_type": "execute_result"
    }
   ],
   "source": [
    "ny_neighborhood_stats=african_rest_stats_ny.groupby('Neighborhood',as_index=False).mean()[['Neighborhood','Rating']]\n",
    "ny_neighborhood_stats.columns=['Neighborhood','Average Rating']\n",
    "ny_neighborhood_stats.sort_values(['Average Rating'],ascending=False).head()"
   ]
  },
  {
   "cell_type": "markdown",
   "metadata": {},
   "source": [
    "Average ratings by each Borough below"
   ]
  },
  {
   "cell_type": "code",
   "execution_count": 27,
   "metadata": {},
   "outputs": [
    {
     "data": {
      "text/html": [
       "<div>\n",
       "<style scoped>\n",
       "    .dataframe tbody tr th:only-of-type {\n",
       "        vertical-align: middle;\n",
       "    }\n",
       "\n",
       "    .dataframe tbody tr th {\n",
       "        vertical-align: top;\n",
       "    }\n",
       "\n",
       "    .dataframe thead th {\n",
       "        text-align: right;\n",
       "    }\n",
       "</style>\n",
       "<table border=\"1\" class=\"dataframe\">\n",
       "  <thead>\n",
       "    <tr style=\"text-align: right;\">\n",
       "      <th></th>\n",
       "      <th>Borough</th>\n",
       "      <th>Average Rating</th>\n",
       "    </tr>\n",
       "  </thead>\n",
       "  <tbody>\n",
       "    <tr>\n",
       "      <th>1</th>\n",
       "      <td>Manhattan</td>\n",
       "      <td>7.866667</td>\n",
       "    </tr>\n",
       "    <tr>\n",
       "      <th>0</th>\n",
       "      <td>Bronx</td>\n",
       "      <td>6.800000</td>\n",
       "    </tr>\n",
       "  </tbody>\n",
       "</table>\n",
       "</div>"
      ],
      "text/plain": [
       "     Borough  Average Rating\n",
       "1  Manhattan        7.866667\n",
       "0      Bronx        6.800000"
      ]
     },
     "execution_count": 27,
     "metadata": {},
     "output_type": "execute_result"
    }
   ],
   "source": [
    "ny_borough_stats=african_rest_stats_ny.groupby('Borough',as_index=False).mean()[['Borough','Rating']]\n",
    "ny_borough_stats.columns=['Borough','Average Rating']\n",
    "ny_borough_stats.sort_values(['Average Rating'],ascending=False).head()"
   ]
  },
  {
   "cell_type": "code",
   "execution_count": 28,
   "metadata": {},
   "outputs": [
    {
     "data": {
      "image/png": "[encoded data removed]",
      "text/plain": [
       "<Figure size 900x500 with 1 Axes>"
      ]
     },
     "metadata": {
      "needs_background": "light"
     },
     "output_type": "display_data"
    }
   ],
   "source": [
    "# visualize result\n",
    "plt.figure(figsize=(9,5), dpi = 100)\n",
    "plt.title('Average rating of African Restaurants for each Borough')\n",
    "plt.xlabel('Borough', fontsize = 15)\n",
    "plt.ylabel('Average Rating', fontsize=15)\n",
    "african_rest_stats_ny.groupby('Borough').mean()['Rating'].plot(kind='bar', color=clr)\n",
    "plt.legend()\n",
    "plt.show()"
   ]
  },
  {
   "cell_type": "code",
   "execution_count": 29,
   "metadata": {},
   "outputs": [
    {
     "data": {
      "text/html": [
       "<div>\n",
       "<style scoped>\n",
       "    .dataframe tbody tr th:only-of-type {\n",
       "        vertical-align: middle;\n",
       "    }\n",
       "\n",
       "    .dataframe tbody tr th {\n",
       "        vertical-align: top;\n",
       "    }\n",
       "\n",
       "    .dataframe thead th {\n",
       "        text-align: right;\n",
       "    }\n",
       "</style>\n",
       "<table border=\"1\" class=\"dataframe\">\n",
       "  <thead>\n",
       "    <tr style=\"text-align: right;\">\n",
       "      <th></th>\n",
       "      <th>Borough</th>\n",
       "      <th>Neighborhood</th>\n",
       "      <th>Latitude</th>\n",
       "      <th>Longitude</th>\n",
       "      <th>Average Rating</th>\n",
       "    </tr>\n",
       "  </thead>\n",
       "  <tbody>\n",
       "    <tr>\n",
       "      <th>0</th>\n",
       "      <td>Manhattan</td>\n",
       "      <td>Central Harlem</td>\n",
       "      <td>40.815976</td>\n",
       "      <td>-73.943211</td>\n",
       "      <td>7.866667</td>\n",
       "    </tr>\n",
       "    <tr>\n",
       "      <th>1</th>\n",
       "      <td>Bronx</td>\n",
       "      <td>University Heights</td>\n",
       "      <td>40.855727</td>\n",
       "      <td>-73.910416</td>\n",
       "      <td>6.800000</td>\n",
       "    </tr>\n",
       "  </tbody>\n",
       "</table>\n",
       "</div>"
      ],
      "text/plain": [
       "     Borough        Neighborhood   Latitude  Longitude  Average Rating\n",
       "0  Manhattan      Central Harlem  40.815976 -73.943211        7.866667\n",
       "1      Bronx  University Heights  40.855727 -73.910416        6.800000"
      ]
     },
     "execution_count": 29,
     "metadata": {},
     "output_type": "execute_result"
    }
   ],
   "source": [
    "# join this Dataset to original New York data to get longitude and latitude\n",
    "ny_neighborhood_stats=pd.merge(ny_neighborhood_stats,ny_data, on='Neighborhood')\n",
    "ny_neighborhood_stats=ny_neighborhood_stats[['Borough','Neighborhood','Latitude','Longitude','Average Rating']]\n",
    "ny_neighborhood_stats"
   ]
  },
  {
   "cell_type": "code",
   "execution_count": 30,
   "metadata": {
    "scrolled": true
   },
   "outputs": [
    {
     "data": {
      "text/html": [
       "<div style=\"width:100%;\"><div style=\"position:relative;width:100%;height:0;padding-bottom:60%;\"><iframe src=\"data:text/html;charset=utf-8;base64,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\" style=\"position:absolute;width:100%;height:100%;left:0;top:0;border:none !important;\" allowfullscreen webkitallowfullscreen mozallowfullscreen></iframe></div></div>"
      ],
      "text/plain": [
       "<folium.folium.Map at 0x23af25272e8>"
      ]
     },
     "execution_count": 30,
     "metadata": {},
     "output_type": "execute_result"
    }
   ],
   "source": [
    "# create map and display it\n",
    "ny_map = folium.Map(location=geo_location('New York'), zoom_start=12)\n",
    "# instantiate a feature group for the ratings in the dataframe\n",
    "rating = folium.map.FeatureGroup()\n",
    "\n",
    "# loop through the ratings and add each to the neighborhood feature group\n",
    "for lat, lng, in ny_neighborhood_stats[['Latitude','Longitude']].values:\n",
    "    rating.add_child(\n",
    "        folium.CircleMarker(\n",
    "            [lat, lng],\n",
    "            radius=10, # define how big you want the circle markers to be\n",
    "            color='yellow',\n",
    "            fill=True,\n",
    "            fill_color='blue',\n",
    "            fill_opacity=0.6\n",
    "        )\n",
    "    )\n",
    "ny_map"
   ]
  },
  {
   "cell_type": "code",
   "execution_count": 31,
   "metadata": {},
   "outputs": [
    {
     "data": {
      "text/html": [
       "<div style=\"width:100%;\"><div style=\"position:relative;width:100%;height:0;padding-bottom:60%;\"><iframe src=\"data:text/html;charset=utf-8;base64,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\" style=\"position:absolute;width:100%;height:100%;left:0;top:0;border:none !important;\" allowfullscreen webkitallowfullscreen mozallowfullscreen></iframe></div></div>"
      ],
      "text/plain": [
       "<folium.folium.Map at 0x23af25272e8>"
      ]
     },
     "execution_count": 31,
     "metadata": {},
     "output_type": "execute_result"
    }
   ],
   "source": [
    "ny_neighborhood_stats['Label']=ny_neighborhood_stats['Neighborhood']+', '+ny_neighborhood_stats['Borough']+'('+ny_neighborhood_stats['Average Rating'].map(str)+')'\n",
    "# add pop-up text to each marker on the map\n",
    "for lat, lng, label in ny_neighborhood_stats[['Latitude','Longitude','Label']].values:\n",
    "    folium.Marker([lat, lng], popup=label).add_to(ny_map)        \n",
    "# add ratings to map\n",
    "ny_map.add_child(rating)"
   ]
  },
  {
   "cell_type": "markdown",
   "metadata": {},
   "source": [
    "## Results and Discussion <a name=\"results\"></a>"
   ]
  },
  {
   "cell_type": "markdown",
   "metadata": {},
   "source": [
    "Our result shows that Manhattan and Bronx have the best concentration of african restaurants and on average the best rated as well. Bronx has the least number of african restaurants compare to Manhattan. On analysing further we saw that Central Harlem of Manhattan and University Heights of Bronx neighborhoods are where these african restaurants are located with Central Harlem having the highest. In terms of likes and ratings, Ponty Bistro Harlem restaurant has the highest and for the most tips, Africa Kine Restaurant comes out top. Based on the above information, I would state that Manhattan and Bronx are the best locations for African cuisine in NYC. In order to be successful in siting a restaurant, I would recommend opening an African Restaurant in Bronx since it has the least number of restaurants compare to Manhattan for the sake of less competition. The result shows that Bronx has only one restaurant i.e Accra Restaurant in University Heights neighborhood hence competition worries will be very low.  "
   ]
  },
  {
   "cell_type": "markdown",
   "metadata": {},
   "source": [
    "## Conclusion <a name=\"conclusion\"></a>"
   ]
  },
  {
   "cell_type": "markdown",
   "metadata": {},
   "source": [
    "Based on our analysis, this project was able to determine the suitable location to site an African Restaurant i.e Bronx borough being that it has least concentration of African restaurants compared to Manhattan. For that reason competition would be very low and better chances of success. Finally in terms of likes, from the analysis presented I would go to Ponty Bistro Harlem because much people seems to prefer it. "
   ]
  }
 ],
 "metadata": {
  "kernelspec": {
   "display_name": "Python 3",
   "language": "python",
   "name": "python3"
  },
  "language_info": {
   "codemirror_mode": {
    "name": "ipython",
    "version": 3
   },
   "file_extension": ".py",
   "mimetype": "text/x-python",
   "name": "python",
   "nbconvert_exporter": "python",
   "pygments_lexer": "ipython3",
   "version": "3.7.0"
  }
 },
 "nbformat": 4,
 "nbformat_minor": 2
}
